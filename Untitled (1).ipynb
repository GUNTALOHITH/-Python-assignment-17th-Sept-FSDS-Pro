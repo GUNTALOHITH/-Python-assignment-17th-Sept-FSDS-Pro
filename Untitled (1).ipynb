{
 "cells": [
  {
   "cell_type": "code",
   "execution_count": 5,
   "id": "8ce1477c-1b54-4b02-a4bd-79aa7461e679",
   "metadata": {},
   "outputs": [],
   "source": [
    "# For Loop :-"
   ]
  },
  {
   "cell_type": "code",
   "execution_count": 1,
   "id": "a14c9ee5-18e0-4ed8-a672-a1597faaa3b9",
   "metadata": {},
   "outputs": [],
   "source": [
    "# Python assignment 17th Sept FSDS Pro"
   ]
  },
  {
   "cell_type": "code",
   "execution_count": 2,
   "id": "54343901-6d08-46a7-9b99-5565aa7d3928",
   "metadata": {},
   "outputs": [
    {
     "name": "stdout",
     "output_type": "stream",
     "text": [
      "1\n",
      "2\n",
      "3\n",
      "4\n",
      "5\n",
      "6\n",
      "7\n",
      "8\n",
      "9\n",
      "10\n"
     ]
    }
   ],
   "source": [
    "# 1.Write a Python program to print numbers from 1 to 10 using a for loop.\n",
    "for i in range(1,11):\n",
    "    print(i)\n"
   ]
  },
  {
   "cell_type": "code",
   "execution_count": 3,
   "id": "680d8031-6992-4592-a2bc-a8cf2e109f46",
   "metadata": {},
   "outputs": [],
   "source": [
    "# 2.Explain the difference between a for loop and a while loop in Python.\n",
    "# ans: a) for loop is suitable when you know the number of iterations or when iterating over a sequence, \n",
    "#      b) while The while loop is more flexible when you need to repeat a block of code based on a condition. "
   ]
  },
  {
   "cell_type": "code",
   "execution_count": 4,
   "id": "88cff5a1-3a49-4618-9e0c-313ea85b66de",
   "metadata": {},
   "outputs": [
    {
     "name": "stdout",
     "output_type": "stream",
     "text": [
      "Sum of all numbers:5050\n"
     ]
    }
   ],
   "source": [
    "# 3.Write a Python program to calculate the sum of all numbers from 1 to 100 using a for loop.\n",
    "sum_of_num = 0\n",
    "for i in range(1,101):\n",
    "    sum_of_num += i\n",
    "print(f\"Sum of all numbers:{sum_of_num}\")"
   ]
  },
  {
   "cell_type": "code",
   "execution_count": 6,
   "id": "da9859c1-03f6-49e2-897d-c2686c2bc508",
   "metadata": {},
   "outputs": [
    {
     "name": "stdout",
     "output_type": "stream",
     "text": [
      "1\n",
      "2\n",
      "3\n",
      "4\n",
      "5\n"
     ]
    }
   ],
   "source": [
    "# 4.How do you iterate through a list using a for loop in Python?\n",
    "l = [1,2,3,4,5]\n",
    "for i in l:\n",
    "    print(i)"
   ]
  },
  {
   "cell_type": "code",
   "execution_count": 9,
   "id": "72023e3a-03cf-49a7-accd-26e21ad2053a",
   "metadata": {},
   "outputs": [
    {
     "name": "stdout",
     "output_type": "stream",
     "text": [
      "Product of all elements in a list :120\n"
     ]
    }
   ],
   "source": [
    "# 5.Write a Python program to find the product of all elements in a list using a for loop.\n",
    "l = [1,2,3,4,5]\n",
    "product = 1\n",
    "for i in l:\n",
    "    product *= i\n",
    "print(f\"Product of all elements in a list :{product}\")"
   ]
  },
  {
   "cell_type": "code",
   "execution_count": 10,
   "id": "8cc4296d-4247-41c6-b4b3-ae75670bd15d",
   "metadata": {},
   "outputs": [
    {
     "name": "stdout",
     "output_type": "stream",
     "text": [
      "2\n",
      "4\n",
      "6\n",
      "8\n",
      "10\n",
      "12\n",
      "14\n",
      "16\n",
      "18\n",
      "20\n"
     ]
    }
   ],
   "source": [
    "# 6.Create a Python program that prints all even numbers from 1 to 20 using a for loop\n",
    "for i in range(1,21):\n",
    "    if i%2==0:\n",
    "        print(i)\n"
   ]
  },
  {
   "cell_type": "code",
   "execution_count": 1,
   "id": "4f3e72d9-b9d4-4e57-911f-f9fb9d51af4b",
   "metadata": {},
   "outputs": [
    {
     "name": "stdin",
     "output_type": "stream",
     "text": [
      "Enter a number : 5\n"
     ]
    },
    {
     "name": "stdout",
     "output_type": "stream",
     "text": [
      "The factorial of given number: 120\n"
     ]
    }
   ],
   "source": [
    "# 7.Write a Python program that calculates the factorial of a number using a for loop.\n",
    "n = int(input(\"Enter a number :\"))\n",
    "fact = 1\n",
    "for i in range(1,n+1):\n",
    "    fact *= i\n",
    "print(f\"The factorial of given number: {fact}\")"
   ]
  },
  {
   "cell_type": "code",
   "execution_count": 2,
   "id": "b344f7d2-d983-41d2-8d9d-1c867e2dbad4",
   "metadata": {},
   "outputs": [
    {
     "name": "stdout",
     "output_type": "stream",
     "text": [
      "p\n",
      "w\n",
      "s\n",
      "k\n",
      "i\n",
      "l\n",
      "l\n",
      "s\n"
     ]
    }
   ],
   "source": [
    "# 8.How can you iterate through the characters of a string using a for loop in Python?\n",
    "a = \"pwskills\"\n",
    "for i in a:\n",
    "    print(i)"
   ]
  },
  {
   "cell_type": "code",
   "execution_count": 8,
   "id": "567c628c-e884-4968-b85b-a1e4d9c2fe3f",
   "metadata": {},
   "outputs": [
    {
     "name": "stdout",
     "output_type": "stream",
     "text": [
      "The largest number in a list: 7 \n"
     ]
    }
   ],
   "source": [
    "# 9.Write a Python program to find the largest number in a list using a for loop.\n",
    "l = [1,2,3,4,5,6,7]\n",
    "max_num = l[0]\n",
    "for num in l:\n",
    "    if num > max_num:\n",
    "        max_num = num\n",
    "\n",
    "print(f\"The largest number in a list: {max_num} \")\n",
    "    "
   ]
  },
  {
   "cell_type": "code",
   "execution_count": 9,
   "id": "a9a2cb2f-8992-4d3a-ac41-ed1576b1bfa8",
   "metadata": {},
   "outputs": [
    {
     "name": "stdin",
     "output_type": "stream",
     "text": [
      "enter the limit :  6\n"
     ]
    },
    {
     "name": "stdout",
     "output_type": "stream",
     "text": [
      "0\n",
      "1\n",
      "1\n",
      "2\n",
      "3\n",
      "5\n"
     ]
    }
   ],
   "source": [
    "#10.Create a Python program that prints the Fibonacci sequence up to a specified limit using a for loop.\n",
    "n=int(input(\"enter the limit : \"))\n",
    "a=0\n",
    "b=1 \n",
    "for i in range(n):\n",
    "    print(a)\n",
    "    c=a+b\n",
    "    a=b\n",
    "    b=c"
   ]
  },
  {
   "cell_type": "code",
   "execution_count": 11,
   "id": "8cd9b965-1025-4321-a732-c919ef90c12a",
   "metadata": {},
   "outputs": [
    {
     "name": "stdin",
     "output_type": "stream",
     "text": [
      "Enter the string: pwskills\n"
     ]
    },
    {
     "name": "stdout",
     "output_type": "stream",
     "text": [
      "The number of vowels in a given string: 1\n"
     ]
    }
   ],
   "source": [
    "#11.Write a Python program to count the number of vowels in a given string using a for loop.\n",
    "a = input(\"Enter the string:\")\n",
    "vowels = \"aeiouAEIOU\"\n",
    "count = 0\n",
    "for i in a:\n",
    "    if i in vowels:\n",
    "        count += 1\n",
    "print(f\"The number of vowels in a given string: {count}\")\n",
    "    \n"
   ]
  },
  {
   "cell_type": "code",
   "execution_count": 12,
   "id": "408d0396-aee8-49a2-b1fb-fea70325abb9",
   "metadata": {},
   "outputs": [
    {
     "name": "stdin",
     "output_type": "stream",
     "text": [
      "enter the number for which you want to print multiplication table: 4\n"
     ]
    },
    {
     "name": "stdout",
     "output_type": "stream",
     "text": [
      "4 * 1 = 4 \n",
      "4 * 2 = 8 \n",
      "4 * 3 = 12 \n",
      "4 * 4 = 16 \n",
      "4 * 5 = 20 \n",
      "4 * 6 = 24 \n",
      "4 * 7 = 28 \n",
      "4 * 8 = 32 \n",
      "4 * 9 = 36 \n",
      "4 * 10 = 40 \n"
     ]
    }
   ],
   "source": [
    "# 12.Create a Python program that generates a multiplication table for a given number using a for loop.\n",
    "a=int(input(\"enter the number for which you want to print multiplication table:\"))\n",
    "for i in range(1,11):\n",
    "    print( \"%s * %s = %s \" %(a, i, a*i))"
   ]
  },
  {
   "cell_type": "code",
   "execution_count": 13,
   "id": "a6fa6109-ae11-419a-be8f-d8b0036b56fa",
   "metadata": {},
   "outputs": [
    {
     "name": "stdout",
     "output_type": "stream",
     "text": [
      "The reversed list : [6, 5, 4, 3, 2, 1]\n"
     ]
    }
   ],
   "source": [
    "# 13.Write a Python program to reverse a list using a for loop.\n",
    "l = [1,2,3,4,5,6]\n",
    "l1 = []\n",
    "for i in range(len(l)-1 , -1 , -1):\n",
    "    l1.append(l[i])\n",
    "print(f\"The reversed list : {l1}\")\n",
    "    "
   ]
  },
  {
   "cell_type": "code",
   "execution_count": 17,
   "id": "23e400f9-02c7-47f0-9da8-7c34d36a7ee8",
   "metadata": {},
   "outputs": [
    {
     "name": "stdout",
     "output_type": "stream",
     "text": [
      "[2, 4, 6]\n"
     ]
    }
   ],
   "source": [
    "# 14.Write a Python program to find the common elements between two lists using a for loop.\n",
    "l1 = [1,2,3,4,5,6]\n",
    "l2 = [2,4,6,8,10,12]\n",
    "l_common = []\n",
    "for i in l1:\n",
    "    if i in l2:\n",
    "        l_common.append(i)\n",
    "print(l_common)"
   ]
  },
  {
   "cell_type": "code",
   "execution_count": 21,
   "id": "6a274379-0998-43b7-be9f-e3f6c5714562",
   "metadata": {},
   "outputs": [
    {
     "name": "stdout",
     "output_type": "stream",
     "text": [
      "keys:name , value: John\n",
      "keys:age , value: 25\n",
      "keys:city , value: New York\n"
     ]
    }
   ],
   "source": [
    "# 15.Explain how to use a for loop to iterate through the keys and values of a dictionary in Python.\n",
    "d = {'name': 'John', 'age': 25, 'city': 'New York'}\n",
    "for key , values in d.items():\n",
    "    print(f\"keys:{key} , value: {values}\")"
   ]
  },
  {
   "cell_type": "code",
   "execution_count": 22,
   "id": "d14f8d5d-5429-4c43-b1c7-5b3276e6a209",
   "metadata": {},
   "outputs": [
    {
     "name": "stdin",
     "output_type": "stream",
     "text": [
      "Enter the first number:  4\n",
      "Enter the second number:  8\n"
     ]
    },
    {
     "name": "stdout",
     "output_type": "stream",
     "text": [
      "The greatest common divisor (GCD) of two numbers are 4\n"
     ]
    }
   ],
   "source": [
    "# 16.Write a Python program to find the GCD (Greatest Common Divisor) of two numbers using a for loop.\n",
    "n1 = int(input(\"Enter the first number: \"))\n",
    "n2 = int(input(\"Enter the second number: \"))\n",
    "\n",
    "smaller_num = min(n1, n2)\n",
    "gcd = 1\n",
    "for i in range(1,smaller_num+1):\n",
    "    if n1%i == 0 and n2%i == 0:\n",
    "        gcd = i\n",
    "print(f\"The greatest common divisor (GCD) of two numbers are {gcd}\")"
   ]
  },
  {
   "cell_type": "code",
   "execution_count": 28,
   "id": "12bf5b84-473a-4436-a60e-97b97ec514d0",
   "metadata": {},
   "outputs": [
    {
     "name": "stdin",
     "output_type": "stream",
     "text": [
      "Enter the string: madam\n"
     ]
    },
    {
     "name": "stdout",
     "output_type": "stream",
     "text": [
      "string is a palindrome\n"
     ]
    }
   ],
   "source": [
    "# 17.Create a Python program that checks if a string is a palindrome using a for loop.\n",
    "a = input(\"Enter the string:\")\n",
    "rev_a = \"\"\n",
    "for i in a:\n",
    "    rev_a = i + rev_a\n",
    "if a == rev_a:\n",
    "    print(\"string is a palindrome\")\n",
    "else:\n",
    "    print(\"string is not a palindrome\")\n",
    "    \n",
    "    "
   ]
  },
  {
   "cell_type": "code",
   "execution_count": 29,
   "id": "c59d2939-0c7f-4fa3-808f-d491a2d05d2f",
   "metadata": {},
   "outputs": [
    {
     "name": "stdout",
     "output_type": "stream",
     "text": [
      "List afrer removing duplicates: [1, 2, 3, 4, 5, 6]\n"
     ]
    }
   ],
   "source": [
    "# 18.Write a Python program to remove duplicates from a list using a for loop\n",
    "l = [1,1,1,2,2,2,3,4,4,5,6,6,6]\n",
    "l1 = []\n",
    "for i in l:\n",
    "    if i not in l1:\n",
    "        l1.append(i)\n",
    "print(f\"List afrer removing duplicates: {l1}\")\n",
    "        "
   ]
  },
  {
   "cell_type": "code",
   "execution_count": 30,
   "id": "179d8f86-bec4-4ee6-97b5-b40c2fff270f",
   "metadata": {},
   "outputs": [
    {
     "name": "stdout",
     "output_type": "stream",
     "text": [
      " the number of words in a sentence are 8\n"
     ]
    }
   ],
   "source": [
    "# 19.Create a Python program that counts the number of words in a sentence using a for loop.\n",
    "a = \"This is a sample sentence with several words.\"\n",
    "count = 0\n",
    "for char in a:\n",
    "    if char == \" \":\n",
    "        count += 1\n",
    "        \n",
    "count +=1\n",
    "print(f\" the number of words in a sentence are {count}\")"
   ]
  },
  {
   "cell_type": "code",
   "execution_count": 34,
   "id": "c71ac2c9-ecaa-4bb1-8c05-d94292fcfadb",
   "metadata": {},
   "outputs": [
    {
     "name": "stdout",
     "output_type": "stream",
     "text": [
      "Sum of all odd numbers  1 to 50 : 625\n"
     ]
    }
   ],
   "source": [
    "#20.Write a Python program to find the sum of all odd numbers from 1 to 50 using a for loop.\n",
    "sum = 0\n",
    "for i in range(1,51):\n",
    "    if i%2 != 0:\n",
    "        sum += i\n",
    "print(f\"Sum of all odd numbers  1 to 50 : {sum}\")\n",
    "        "
   ]
  },
  {
   "cell_type": "code",
   "execution_count": 2,
   "id": "d3678fbd-47ae-485a-a845-58bbd018c643",
   "metadata": {},
   "outputs": [
    {
     "name": "stdin",
     "output_type": "stream",
     "text": [
      "Enter the starting year:  2020\n",
      "Enter the ending year:  2024\n"
     ]
    },
    {
     "name": "stdout",
     "output_type": "stream",
     "text": [
      "2020 is a leap year.\n",
      "2021 is not a leap year.\n",
      "2022 is not a leap year.\n",
      "2023 is not a leap year.\n",
      "2024 is a leap year.\n"
     ]
    }
   ],
   "source": [
    "# 21.Write a Python program that checks if a given year is a leap year using a for loop.\n",
    "start_year = int(input(\"Enter the starting year: \"))\n",
    "end_year = int(input(\"Enter the ending year: \"))\n",
    "\n",
    "for year in range(start_year, end_year + 1):\n",
    "    if (year % 4 == 0 and year % 100 != 0) or (year % 400 == 0):\n",
    "        print(f\"{year} is a leap year.\")\n",
    "    else:\n",
    "        print(f\"{year} is not a leap year.\")\n",
    "\n"
   ]
  },
  {
   "cell_type": "code",
   "execution_count": 6,
   "id": "f4357c39-637a-4e82-9195-6f4388d64302",
   "metadata": {},
   "outputs": [
    {
     "name": "stdin",
     "output_type": "stream",
     "text": [
      "Enter a number:  2\n"
     ]
    },
    {
     "name": "stdout",
     "output_type": "stream",
     "text": [
      "The square root of 2.0 is approximately: 1.414213562373095\n"
     ]
    }
   ],
   "source": [
    "# 22.Create a Python program that calculates the square root of a number using a for loop.\n",
    "number = float(input(\"Enter a number: \"))\n",
    "\n",
    "guess = number / 2\n",
    "\n",
    "iterations = 10\n",
    "\n",
    "for _ in range(iterations):\n",
    "    guess = 0.5 * (guess + number / guess)\n",
    "\n",
    "print(f\"The square root of {number} is approximately: {guess}\")\n",
    "\n"
   ]
  },
  {
   "cell_type": "code",
   "execution_count": 7,
   "id": "64a9d5b6-936e-448f-8376-4457e78449e3",
   "metadata": {},
   "outputs": [
    {
     "name": "stdin",
     "output_type": "stream",
     "text": [
      "Enter the first number:  4\n",
      "Enter the second number:  8\n"
     ]
    },
    {
     "name": "stdout",
     "output_type": "stream",
     "text": [
      "The LCM of 4 and 8 is: 8\n"
     ]
    }
   ],
   "source": [
    "# Write a Python program to find the LCM (Least Common Multiple) of two numbers using a for loop.\n",
    "num1 = int(input(\"Enter the first number: \"))\n",
    "num2 = int(input(\"Enter the second number: \"))\n",
    "\n",
    "max_num = max(num1, num2)\n",
    "\n",
    "for i in range(max_num, num1 * num2 + 1, max_num):\n",
    "    if i % num1 == 0 and i % num2 == 0:\n",
    "        lcm = i\n",
    "        break\n",
    "\n",
    "print(f\"The LCM of {num1} and {num2} is: {lcm}\")\n"
   ]
  },
  {
   "cell_type": "code",
   "execution_count": 8,
   "id": "da22b118-0cea-442d-8963-45f4dacca8cf",
   "metadata": {},
   "outputs": [],
   "source": [
    "# If else :"
   ]
  },
  {
   "cell_type": "code",
   "execution_count": 14,
   "id": "94895b32-891e-4087-b6dc-69167b4cf872",
   "metadata": {},
   "outputs": [
    {
     "name": "stdin",
     "output_type": "stream",
     "text": [
      "Enter a number: 5\n"
     ]
    },
    {
     "name": "stdout",
     "output_type": "stream",
     "text": [
      "Entered number is positive\n"
     ]
    }
   ],
   "source": [
    "# 1.Write a Python program to check if a number is positive, negative, or zero using an if-else statement.\n",
    "n = int(input(\"Enter a number:\"))\n",
    "if n>0 :\n",
    "    print(\"Entered number is positive\")\n",
    "elif n == 0:\n",
    "    print(\"Entered number is zero\")\n",
    "else :\n",
    "    print(\"Entered number is negative\")"
   ]
  },
  {
   "cell_type": "code",
   "execution_count": 15,
   "id": "2f306daf-a774-4bcb-aaa3-96358c864c0e",
   "metadata": {},
   "outputs": [
    {
     "name": "stdin",
     "output_type": "stream",
     "text": [
      "Enter a number: 7\n"
     ]
    },
    {
     "name": "stdout",
     "output_type": "stream",
     "text": [
      "The given number is odd\n"
     ]
    }
   ],
   "source": [
    "# 2.Create a Python program that checks if a given number is even or odd using an if-else statement.\n",
    "n = int(input(\"Enter a number:\"))\n",
    "if n%2== 0 :\n",
    "    print(\"The given number is even\")\n",
    "else:\n",
    "    print(\"The given number is odd\")"
   ]
  },
  {
   "cell_type": "code",
   "execution_count": 16,
   "id": "99f4ebbb-3d3b-46c9-9bee-a4eea14c96f2",
   "metadata": {},
   "outputs": [
    {
     "name": "stdin",
     "output_type": "stream",
     "text": [
      "Enter the marks 75\n"
     ]
    },
    {
     "name": "stdout",
     "output_type": "stream",
     "text": [
      "good\n"
     ]
    }
   ],
   "source": [
    "# 3.How can you use nested if-else statements in Python, and provide an example?\n",
    "# Nested if-else statements in Python allow you to have one if-else statement inside another. \n",
    "# This is useful when you need to check multiple conditions in a hierarchical manner\n",
    "marks = int(input(\"Enter the marks\"))\n",
    "if marks in range(81,100):\n",
    "    print(\"very good\")\n",
    "elif marks in range(61,80):\n",
    "    print(\"good\")\n",
    "elif marks in range(41,60):\n",
    "    print(\"average\")\n",
    "elif marks<40:\n",
    "    print(\"fail\")\n"
   ]
  },
  {
   "cell_type": "code",
   "execution_count": 17,
   "id": "54ecabc7-4ec1-48ac-82ee-c7d5dd2dac19",
   "metadata": {},
   "outputs": [
    {
     "name": "stdin",
     "output_type": "stream",
     "text": [
      "Enter the number 3\n",
      "Enter the number 5\n",
      "Enter the number 1\n"
     ]
    },
    {
     "name": "stdout",
     "output_type": "stream",
     "text": [
      "5 is the largest number\n"
     ]
    }
   ],
   "source": [
    "# 4.Write a Python program to determine the largest of three numbers using if-else.\n",
    "n1 = int(input(\"Enter the number\"))\n",
    "n2 = int(input(\"Enter the number\"))\n",
    "n3 = int(input(\"Enter the number\"))\n",
    "largest = n1\n",
    "if n2>largest:\n",
    "    largest = n2\n",
    "if n3>largest:\n",
    "    largest = n3\n",
    "print(largest ,\"is the largest number\")"
   ]
  },
  {
   "cell_type": "code",
   "execution_count": 18,
   "id": "dd6bc231-3dd8-4627-ab25-72c597224dc0",
   "metadata": {},
   "outputs": [
    {
     "name": "stdin",
     "output_type": "stream",
     "text": [
      "Enter a number: -6\n"
     ]
    },
    {
     "name": "stdout",
     "output_type": "stream",
     "text": [
      "6\n"
     ]
    }
   ],
   "source": [
    "# 5.Write a Python program that calculates the absolute value of a number using if-else.\n",
    "n = int(input(\"Enter a number:\"))\n",
    "if n>0:\n",
    "    print(n)\n",
    "else:\n",
    "    print(-n)"
   ]
  },
  {
   "cell_type": "code",
   "execution_count": 20,
   "id": "825ea07d-30ff-4f33-95e6-facc93370f35",
   "metadata": {},
   "outputs": [
    {
     "name": "stdin",
     "output_type": "stream",
     "text": [
      "Enter a character: I\n"
     ]
    },
    {
     "name": "stdout",
     "output_type": "stream",
     "text": [
      "The given character is vowel\n"
     ]
    }
   ],
   "source": [
    "#6. Create a Python program that checks if a given character is a vowel or consonant using if-else.\n",
    "character = input(\"Enter a character:\")\n",
    "if character.isalpha():\n",
    "    if character in \"AEIOUaeiou\" :\n",
    "        print(\"The given character is vowel\")\n",
    "    else:\n",
    "        print(\"The given character is consonant\")\n",
    "else:\n",
    "    print(\"You have entered special characters\")"
   ]
  },
  {
   "cell_type": "code",
   "execution_count": 21,
   "id": "ba5965a8-9f74-43f6-8779-7f827858dd2b",
   "metadata": {},
   "outputs": [
    {
     "name": "stdin",
     "output_type": "stream",
     "text": [
      "Enter the age of a person: 20\n"
     ]
    },
    {
     "name": "stdout",
     "output_type": "stream",
     "text": [
      "person is eligible to vote\n"
     ]
    }
   ],
   "source": [
    "# 7.Write a Python program to determine if a user is eligible to vote based on their age using if-else.\n",
    "age = int(input(\"Enter the age of a person:\"))\n",
    "if age>=18:\n",
    "    print(\"person is eligible to vote\")\n",
    "else:\n",
    "    print(\"person is not eligible to vote\")"
   ]
  },
  {
   "cell_type": "code",
   "execution_count": 23,
   "id": "27370fef-3ca9-4563-9345-79f5ea798785",
   "metadata": {},
   "outputs": [
    {
     "name": "stdin",
     "output_type": "stream",
     "text": [
      "Enter the purchase amount:  1000\n"
     ]
    },
    {
     "name": "stdout",
     "output_type": "stream",
     "text": [
      "Final Amount after Discount: 900.00\n"
     ]
    }
   ],
   "source": [
    "#8.Create a Python program that calculates the discount amount based on the purchase amount using if-else.\n",
    "purchase_amount = float(input(\"Enter the purchase amount: \"))\n",
    "\n",
    "if purchase_amount >= 100:\n",
    "    discount_rate = 0.1  \n",
    "else:\n",
    "    discount_rate = 0\n",
    "\n",
    "discount_amount = purchase_amount * discount_rate\n",
    "\n",
    "final_amount = purchase_amount - discount_amount\n",
    "\n",
    "print(f\"Final Amount after Discount: {final_amount:.2f}\")\n"
   ]
  },
  {
   "cell_type": "code",
   "execution_count": 25,
   "id": "aeffa86d-6f72-4c82-a481-973bce001503",
   "metadata": {},
   "outputs": [
    {
     "name": "stdin",
     "output_type": "stream",
     "text": [
      "Enter a number:  9\n"
     ]
    },
    {
     "name": "stdout",
     "output_type": "stream",
     "text": [
      "The number 9.0 is outside the specified range [10, 50].\n"
     ]
    }
   ],
   "source": [
    "# 9.Write a Python program to check if a number is within a specified range using if-else.\n",
    "lower_limit = 10\n",
    "upper_limit = 50\n",
    "\n",
    "number = float(input(\"Enter a number: \"))\n",
    "\n",
    "if lower_limit <= number <= upper_limit:\n",
    "    print(f\"The number {number} is within the specified range [{lower_limit}, {upper_limit}].\")\n",
    "else:\n",
    "    print(f\"The number {number} is outside the specified range [{lower_limit}, {upper_limit}].\")\n"
   ]
  },
  {
   "cell_type": "code",
   "execution_count": 27,
   "id": "c72c0e0a-1296-4b64-9014-f64ef4351173",
   "metadata": {},
   "outputs": [
    {
     "name": "stdin",
     "output_type": "stream",
     "text": [
      "Enter the marks 89\n"
     ]
    },
    {
     "name": "stdout",
     "output_type": "stream",
     "text": [
      "grade A\n"
     ]
    }
   ],
   "source": [
    "# 10.Create a Python program that determines the grade of a student based on their score using if-else.\n",
    "marks = int(input(\"Enter the marks\"))\n",
    "if marks in range(80,100):\n",
    "    print(\"grade A\")\n",
    "elif marks in range(61,80):\n",
    "    print(\"grade B\")\n",
    "elif marks in range(41,60):\n",
    "    print(\"grade C\")\n",
    "elif marks<40:\n",
    "    print(\"grade D\")"
   ]
  },
  {
   "cell_type": "code",
   "execution_count": 31,
   "id": "bd286ebd-b588-4f9c-9f0c-bc39d970d6c7",
   "metadata": {},
   "outputs": [
    {
     "name": "stdin",
     "output_type": "stream",
     "text": [
      "Enter the string: \n"
     ]
    },
    {
     "name": "stdout",
     "output_type": "stream",
     "text": [
      "The string is empty\n"
     ]
    }
   ],
   "source": [
    "#11.Write a Python program to check if a string is empty or not using if-else.\n",
    "s = input(\"Enter the string:\")\n",
    "if s == \"\":\n",
    "    print(\"The string is empty\")\n",
    "else:\n",
    "    print(\"The string is not empty\")\n"
   ]
  },
  {
   "cell_type": "code",
   "execution_count": 32,
   "id": "b344731f-1317-452a-8046-7ee2e639f640",
   "metadata": {},
   "outputs": [
    {
     "name": "stdin",
     "output_type": "stream",
     "text": [
      "Enter the side length 4\n",
      "Enter the side length 4\n",
      "Enter the side length 5\n"
     ]
    },
    {
     "name": "stdout",
     "output_type": "stream",
     "text": [
      "It is a isosceles triangle\n"
     ]
    }
   ],
   "source": [
    "# 12.Create a Python program that identifies the type of a triangle\n",
    "# (e.g., equilateral, isosceles, or scalene) based on input values using if-else.\n",
    "s1 = int(input(\"Enter the side length\"))\n",
    "s2 = int(input(\"Enter the side length\"))\n",
    "s3 = int(input(\"Enter the side length\"))\n",
    "if s1==s2:\n",
    "    if s1==s3:\n",
    "        print(\"It is a equilateral triangle\")\n",
    "    else:\n",
    "        print(\"It is a isosceles triangle\")\n",
    "else:\n",
    "    print(\"It is a scalene triangle\")"
   ]
  },
  {
   "cell_type": "code",
   "execution_count": 33,
   "id": "f5eaa21b-9d2c-4f54-9ef1-19168eda9385",
   "metadata": {},
   "outputs": [
    {
     "name": "stdin",
     "output_type": "stream",
     "text": [
      "Enter a number (1 for Monday, 2 for Tuesday, etc.):  5\n"
     ]
    },
    {
     "name": "stdout",
     "output_type": "stream",
     "text": [
      "The day corresponding to the number 5 is Friday\n"
     ]
    }
   ],
   "source": [
    "#13.Write a Python program to determine the day of the week based on a user-provided number using if-else.\n",
    "day_number = int(input(\"Enter a number (1 for Monday, 2 for Tuesday, etc.): \"))\n",
    "\n",
    "if day_number == 1:\n",
    "    day_name = \"Monday\"\n",
    "if day_number == 2:\n",
    "    day_name = \"Tuesday\"\n",
    "if day_number == 3:\n",
    "    day_name = \"Wednesday\"\n",
    "if day_number == 4:\n",
    "    day_name = \"Thursday\"\n",
    "if day_number == 5:\n",
    "    day_name = \"Friday\"\n",
    "if day_number == 6:\n",
    "    day_name = \"Saturday\"\n",
    "if day_number == 7:\n",
    "    day_name = \"Sunday\"\n",
    "\n",
    "if not day_name:\n",
    "    day_name = \"Invalid day number\"\n",
    "\n",
    "print(\"The day corresponding to the number\",day_number, \"is\" ,day_name)\n",
    "\n"
   ]
  },
  {
   "cell_type": "code",
   "execution_count": 34,
   "id": "38570db7-a365-4d94-be01-6e22b0c4fa5f",
   "metadata": {},
   "outputs": [
    {
     "name": "stdin",
     "output_type": "stream",
     "text": [
      "Enter a year:  2024\n"
     ]
    },
    {
     "name": "stdout",
     "output_type": "stream",
     "text": [
      "2024 is a leap year.\n"
     ]
    }
   ],
   "source": [
    "#14 Create a Python program that checks if a given year is a leap year using both if-else and a function.\n",
    "def is_leap_year(year):\n",
    "    if (year % 4 == 0 and year % 100 != 0) or (year % 400 == 0):\n",
    "        return True\n",
    "    else:\n",
    "        return False\n",
    "\n",
    "input_year = int(input(\"Enter a year: \"))\n",
    "\n",
    "if is_leap_year(input_year):\n",
    "    print(f\"{input_year} is a leap year.\")\n",
    "else:\n",
    "    print(f\"{input_year} is not a leap year.\")\n"
   ]
  },
  {
   "cell_type": "code",
   "execution_count": 35,
   "id": "b3fa4031-74a9-4ea0-a332-5b83b86eb76d",
   "metadata": {},
   "outputs": [
    {
     "name": "stdout",
     "output_type": "stream",
     "text": [
      "Error: Cannot divide by zero!\n"
     ]
    }
   ],
   "source": [
    "#15. How do you use the \"assert\" statement in Python to add debugging checks within if-else blocks?\n",
    "\n",
    "# The assert statement in Python is used to add debugging checks. It evaluates an expression, and \n",
    "# if the expression is False, it raises an AssertionError exception with an optional error message. \n",
    "# It is often used during development to catch bugs and verify that assumptions about the code are true.\n",
    "\n",
    "def divide_numbers(a, b):\n",
    "    assert b != 0, \"Cannot divide by zero!\"  # Debugging check with assert\n",
    "    result = a / b\n",
    "    return result\n",
    "num1 = 10\n",
    "num2 = 0\n",
    "\n",
    "try:\n",
    "    quotient = divide_numbers(num1, num2)\n",
    "    print(f\"The result of {num1} divided by {num2} is: {quotient}\")\n",
    "except AssertionError as e:\n",
    "    print(f\"Error: {e}\")\n"
   ]
  },
  {
   "cell_type": "code",
   "execution_count": 36,
   "id": "e5bcb636-082d-44e5-ab08-53e7f8fa4fd8",
   "metadata": {},
   "outputs": [
    {
     "name": "stdin",
     "output_type": "stream",
     "text": [
      "Enter your age:  65\n"
     ]
    },
    {
     "name": "stdout",
     "output_type": "stream",
     "text": [
      "Congratulations! You are eligible for a senior citizen discount.\n"
     ]
    }
   ],
   "source": [
    "#16.Create a Python program that determines the eligibility of a person for a senior citizen discount based on age \n",
    "# using if-else.\n",
    "age = int(input(\"Enter your age: \"))\n",
    "\n",
    "senior_citizen_age = 60\n",
    "\n",
    "if age >= senior_citizen_age:\n",
    "    print(\"Congratulations! You are eligible for a senior citizen discount.\")\n",
    "else:\n",
    "    print(\"Sorry, you are not eligible for a senior citizen discount.\")\n"
   ]
  },
  {
   "cell_type": "code",
   "execution_count": 41,
   "id": "506dc318-ee52-443b-9957-8277f6742e49",
   "metadata": {},
   "outputs": [
    {
     "name": "stdin",
     "output_type": "stream",
     "text": [
      "Enter the character: l\n"
     ]
    },
    {
     "name": "stdout",
     "output_type": "stream",
     "text": [
      "The character is Lower case\n"
     ]
    }
   ],
   "source": [
    "#17. Write a Python program to categorize a given character as uppercase, lowercase, or neither using if-else.\n",
    "character = input(\"Enter the character:\")\n",
    "if character == character.upper():\n",
    "    print(\"The character is Upper case\")\n",
    "elif character == character.lower():\n",
    "    print(\"The character is Lower case\")\n",
    "else:\n",
    "    print(\"The character belongs to neither\")\n",
    "    "
   ]
  },
  {
   "cell_type": "code",
   "execution_count": 42,
   "id": "4108c098-40eb-4fd5-9ec7-7e13c3ab7592",
   "metadata": {},
   "outputs": [
    {
     "name": "stdin",
     "output_type": "stream",
     "text": [
      "Enter the coefficient a:  1\n",
      "Enter the coefficient b:  -3\n",
      "Enter the coefficient c:  2\n"
     ]
    },
    {
     "name": "stdout",
     "output_type": "stream",
     "text": [
      "The roots are real and distinct: 2.0 and 1.0\n"
     ]
    }
   ],
   "source": [
    "#18.Write a Python program to determine the roots of a quadratic equation using if-else.\n",
    "import math\n",
    "\n",
    "a = float(input(\"Enter the coefficient a: \"))\n",
    "b = float(input(\"Enter the coefficient b: \"))\n",
    "c = float(input(\"Enter the coefficient c: \"))\n",
    "\n",
    "d = (b**2) - (4*a*c)\n",
    "\n",
    "if d> 0:\n",
    "    if d == 0:\n",
    "        r = -b / (2*a)\n",
    "        print(\"There is one real and double root:\" ,r)\n",
    "    else:\n",
    "        r1 = (-b + math.sqrt(d)) / (2*a)\n",
    "        r2 = (-b - math.sqrt(d)) / (2*a)\n",
    "        print(\"The roots are real and distinct:\", r1,\"and\",r2)\n",
    "else:\n",
    "    print(\"The roots are complex:\")\n"
   ]
  },
  {
   "cell_type": "code",
   "execution_count": 45,
   "id": "f00cbc7c-2fce-43a6-b319-e3def51ecf29",
   "metadata": {},
   "outputs": [
    {
     "name": "stdin",
     "output_type": "stream",
     "text": [
      "Enter the year: 2000\n"
     ]
    },
    {
     "name": "stdout",
     "output_type": "stream",
     "text": [
      "It is a century year\n"
     ]
    }
   ],
   "source": [
    "#19.Create a Python program that checks if a given year is a century year or not using if-else.\n",
    "year = int(input(\"Enter the year:\"))\n",
    "if year%100 == 0:\n",
    "    print(\"It is a century year\")\n",
    "else:\n",
    "    print(\"It is not a century year\")"
   ]
  },
  {
   "cell_type": "code",
   "execution_count": 52,
   "id": "eedd4cc8-787b-4ed3-9c9a-2884cb14a84c",
   "metadata": {},
   "outputs": [
    {
     "name": "stdin",
     "output_type": "stream",
     "text": [
      "Enter the number: 81\n"
     ]
    },
    {
     "name": "stdout",
     "output_type": "stream",
     "text": [
      "The number is perfect square\n"
     ]
    }
   ],
   "source": [
    "# 20.Write a Python program to determine if a given number is a perfect square using if-else.\n",
    "n = int(input(\"Enter the number:\"))\n",
    "if n>0:\n",
    "    sq_root = int(n**0.5)\n",
    "    if sq_root**2 == n:\n",
    "        print(\"The number is perfect square\")\n",
    "    else:\n",
    "        print(\"The number is not a perfect square\")\n",
    "else:\n",
    "    print(\"Enter only positive number\")"
   ]
  },
  {
   "cell_type": "raw",
   "id": "26740fd0-c155-4047-949b-7f781760bb51",
   "metadata": {},
   "source": [
    "#21.Explain the purpose of the \"continue\" and \"break\" statements within if-else loops.\n",
    "ANS: \n",
    "CONTINUE:\n",
    "1.The continue statement is used to skip the rest of the code inside a loop for the current iteration \n",
    "and move on to the next iteration.\n",
    "2.When the continue statement is encountered, the remaining code within the loop for that specific iteration is skipped,\n",
    "and the loop proceeds with the next iteration.\n",
    "3.It is often used when you want to skip certain iterations based on a condition.\n",
    "BREAK:\n",
    "1.The break statement is used to exit a loop prematurely. When encountered, it immediately terminates the loop and proceeds to the next statement after the loop.\n",
    "2.It is often used when a specific condition is met, and you want to exit the loop early without completing all iterations."
   ]
  },
  {
   "cell_type": "code",
   "execution_count": 53,
   "id": "e422c4e8-09bb-4b45-a386-4aa874442de0",
   "metadata": {},
   "outputs": [
    {
     "name": "stdin",
     "output_type": "stream",
     "text": [
      "Enter weight (kg):  57\n",
      "Enter height (m):  1.7\n"
     ]
    },
    {
     "name": "stdout",
     "output_type": "stream",
     "text": [
      "Your BMI is 19.723183391003463 and you are categorized as Normal\n"
     ]
    }
   ],
   "source": [
    "#22.Create a Python program that calculates the BMI (Body Mass Index) of a person based on their weight and height using if-else.\n",
    "weight = float(input(\"Enter weight (kg): \"))\n",
    "height = float(input(\"Enter height (m): \"))\n",
    "\n",
    "bmi = weight / (height ** 2)\n",
    "\n",
    "if bmi < 18.5:\n",
    "    category = \"Underweight\"\n",
    "elif 18.5 <= bmi < 25:\n",
    "    category = \"Normal\"\n",
    "elif 25 <= bmi < 30:\n",
    "    category = \"Overweight\"\n",
    "else:\n",
    "    category = \"Obese\"\n",
    "\n",
    "print(\"Your BMI is\" ,bmi, \"and you are categorized as\",category)\n"
   ]
  },
  {
   "cell_type": "code",
   "execution_count": null,
   "id": "1a8623e9-ab98-4e4b-b16d-b2ad86329933",
   "metadata": {},
   "outputs": [],
   "source": [
    "#23. How can you use the \"filter()\" function with if-else statements to filter elements from a list?\n",
    "# Example list\n",
    "\n",
    "# The filter() function in Python is used to construct an iterator from elements of an iterable for which a\n",
    "# function returns true. You can use filter() with a custom function \n",
    "# that includes if-else statements to filter elements from a list based on specific conditions.\n",
    "numbers = [1, 2, 3, 4, 5, 6, 7, 8, 9, 10]\n",
    "\n",
    "def filter_even(num):\n",
    "    if num % 2 == 0:\n",
    "        return True\n",
    "    else:\n",
    "        return False\n",
    "    \n",
    "filtered_numbers = filter(filter_even, numbers)\n",
    "\n",
    "even_numbers = list(filtered_numbers)\n",
    "\n",
    "print(\"Original List:\", numbers)\n",
    "print(\"Filtered Even Numbers:\", even_numbers)\n"
   ]
  },
  {
   "cell_type": "code",
   "execution_count": 54,
   "id": "a7da3bb8-2017-4e0a-9bcb-f6448f00ec79",
   "metadata": {},
   "outputs": [
    {
     "name": "stdin",
     "output_type": "stream",
     "text": [
      "Enter a number:  5\n"
     ]
    },
    {
     "name": "stdout",
     "output_type": "stream",
     "text": [
      "5 is a prime number.\n"
     ]
    }
   ],
   "source": [
    "#24 Write a Python program to determine if a given number is prime or not using if-else.\n",
    "n = int(input(\"Enter a number: \"))\n",
    "\n",
    "if n > 1:\n",
    "    for i in range(2, int(n**0.5) + 1):\n",
    "        if n % i == 0:\n",
    "            print(n,\"is not a prime number.\")\n",
    "            break\n",
    "    else:\n",
    "        print(n,\"is a prime number.\")\n",
    "else:\n",
    "    print(n,\"is not a prime number.\")\n"
   ]
  },
  {
   "cell_type": "code",
   "execution_count": 55,
   "id": "695a2000-013f-45c0-804d-3fb159e8ee20",
   "metadata": {},
   "outputs": [],
   "source": [
    "# Map :-"
   ]
  },
  {
   "cell_type": "code",
   "execution_count": 1,
   "id": "261e620a-b524-461c-b3bd-ad7763a6d76b",
   "metadata": {},
   "outputs": [
    {
     "name": "stdout",
     "output_type": "stream",
     "text": [
      "[2, 4, 6, 8, 10]\n"
     ]
    }
   ],
   "source": [
    "#1. Explain the purpose of the `map()` function in Python and  \n",
    "# provide an example of how it can be used to apply a function to each element of an iterable.\n",
    "\n",
    "# The map() function is a built-in function used for applying a specified function to each item in an iterable \n",
    "# (such as a list, tuple, or string) and returning an iterator that produces the results. \n",
    "# The primary purpose of map() is to transform data in a concise and efficient manner without the need for explicit loops.\n",
    "\n",
    "def double(x):\n",
    "    return x * 2\n",
    "numbers = [1, 2, 3, 4, 5]\n",
    "\n",
    "doubled_numbers = map(double, numbers)\n",
    "\n",
    "doubled_numbers_list = list(doubled_numbers)\n",
    "\n",
    "print(doubled_numbers_list)\n"
   ]
  },
  {
   "cell_type": "code",
   "execution_count": 11,
   "id": "3fc281f8-7c2b-40ae-99ce-00b2154e6287",
   "metadata": {},
   "outputs": [
    {
     "data": {
      "text/plain": [
       "[1, 4, 9, 16, 25]"
      ]
     },
     "execution_count": 11,
     "metadata": {},
     "output_type": "execute_result"
    }
   ],
   "source": [
    "#2. Write a Python program that uses the `map()` function to square each element of a list of numbers.\n",
    "l = [1,2,3,4,5]\n",
    "def sq_of_element(x):\n",
    "    return x**2\n",
    "l1 = map(sq_of_element , l)\n",
    "list(l1)\n"
   ]
  },
  {
   "cell_type": "code",
   "execution_count": 12,
   "id": "1619b65a-5bd5-4093-9d63-769277fd20b8",
   "metadata": {},
   "outputs": [],
   "source": [
    "#3. How does the `map()` function differ from a list comprehension in Python, and when would you choose one over the other?\n",
    "# map() function:\n",
    "#     map(function, iterable, ...)\n",
    "# Return Type:\n",
    "#     map() returns an iterator, so you need to convert it to a list or another iterable type to see the results.\n",
    "    \n",
    "# Use Cases:\n",
    "\n",
    "# Well-suited for applying a single function to every item in one or more iterables.\n",
    "# Useful when you need to apply the same transformation to multiple iterables simultaneously.\n",
    "\n",
    "# List Comprehension:\n",
    "# Syntax:\n",
    "#     [expression for item in iterable if condition]\n",
    "# It creates a new list by specifying the expression, the iterable, and an optional condition.\n",
    "\n",
    "# Return Type:\n",
    "# List comprehensions directly create a list.\n",
    "\n",
    "# Use Cases:\n",
    "\n",
    "# Suitable for creating a new list by applying an expression to each item in an iterable.\n",
    "# Allows filtering elements based on a condition.\n",
    "\n",
    "# Choosing Between map() and List Comprehension:\n",
    "# Readability:\n",
    "\n",
    "# map() can be more readable when applying a single function to multiple iterables.\n",
    "# List comprehensions can be more concise for simple transformations.\n",
    "# Complex Transformations:\n",
    "\n",
    "# If the transformation involves a more complex function or multiple steps, a list comprehension may be more readable.\n",
    "# Performance:\n",
    "\n",
    "# In some cases, map() may have a slight performance advantage, but the difference is often negligible.\n",
    "# Conditionals:\n",
    "\n",
    "# If you need to filter elements based on a condition, list comprehensions provide a convenient way to do so.\n",
    "    \n",
    "\n",
    "\n"
   ]
  },
  {
   "cell_type": "code",
   "execution_count": 15,
   "id": "2431c56e-ecc5-4788-b557-7c9e9a43e23a",
   "metadata": {},
   "outputs": [
    {
     "data": {
      "text/plain": [
       "['PWSKILLS', 'PW', 'ALAKHSIR']"
      ]
     },
     "execution_count": 15,
     "metadata": {},
     "output_type": "execute_result"
    }
   ],
   "source": [
    "# 4.Create a Python program that uses the `map()` function to convert a list of names to uppercase.\n",
    "l = [\"pwskills\" , \"pw\" , \"alakhsir\"]\n",
    "upper_case = map(lambda x : x.upper() , l)\n",
    "list(upper_case)"
   ]
  },
  {
   "cell_type": "code",
   "execution_count": 17,
   "id": "1039b80d-7f5d-4bfc-a109-af64075009f8",
   "metadata": {},
   "outputs": [
    {
     "data": {
      "text/plain": [
       "[8, 2, 8]"
      ]
     },
     "execution_count": 17,
     "metadata": {},
     "output_type": "execute_result"
    }
   ],
   "source": [
    "#5. Write a Python program that uses the `map()` function to calculate the length of each word in a list of strings.\n",
    "l = [\"pwskills\" , \"pw\" , \"alakhsir\"]\n",
    "length_of_word = map(lambda x : len(x) , l)\n",
    "list(length_of_word)"
   ]
  },
  {
   "cell_type": "code",
   "execution_count": 19,
   "id": "7809c74b-4072-42e4-b61f-4a9f62f21357",
   "metadata": {},
   "outputs": [
    {
     "name": "stdout",
     "output_type": "stream",
     "text": [
      "List 1: [1, 2, 3, 4]\n",
      "List 2: [5, 6, 7, 8]\n",
      "Result: [6, 8, 10, 12]\n"
     ]
    }
   ],
   "source": [
    "#6. How can you use the `map()` function to apply a custom function to elements of multiple lists simultaneously in Python?\n",
    "\n",
    "# To use the map() function to apply a custom function to elements of multiple lists simultaneously,\n",
    "# you can pass multiple iterables as arguments to map() along with the custom function. \n",
    "# The custom function should take as many arguments as there are iterables. Here's an example:\n",
    "\n",
    "def add_elements(x, y):\n",
    "    return x + y\n",
    "\n",
    "list1 = [1, 2, 3, 4]\n",
    "list2 = [5, 6, 7, 8]\n",
    "\n",
    "result = map(add_elements, list1, list2)\n",
    "\n",
    "result_list = list(result)\n",
    "\n",
    "print(\"List 1:\", list1)\n",
    "print(\"List 2:\", list2)\n",
    "print(\"Result:\", result_list)\n",
    "\n",
    "# This demonstrates how the map() function can be utilized to apply a custom function to elements of multiple lists simultaneously. \n",
    "# The function is applied element-wise, and the result is a new iterable containing the outcomes of the function for each pair of corresponding elements."
   ]
  },
  {
   "cell_type": "code",
   "execution_count": 21,
   "id": "858aef71-ef57-4f87-aa8b-7487f41edc33",
   "metadata": {},
   "outputs": [
    {
     "name": "stdout",
     "output_type": "stream",
     "text": [
      "Celsius Temperatures: [0, 15, 25, 30, 35]\n",
      "Fahrenheit Temperatures: [32.0, 59.0, 77.0, 86.0, 95.0]\n"
     ]
    }
   ],
   "source": [
    "#7. Create a Python program that uses `map()` to convert a list of temperatures from Celsius to Fahrenheit\n",
    "celsius_temperatures = [0, 15, 25, 30, 35]\n",
    "\n",
    "fahrenheit_temperatures = map(lambda c: (c * 9/5) + 32, celsius_temperatures)\n",
    "\n",
    "fahrenheit_temperatures_list = list(fahrenheit_temperatures)\n",
    "\n",
    "print(\"Celsius Temperatures:\", celsius_temperatures)\n",
    "print(\"Fahrenheit Temperatures:\", fahrenheit_temperatures_list)\n"
   ]
  },
  {
   "cell_type": "code",
   "execution_count": 23,
   "id": "39b6f617-b927-4ef6-9cd1-12ecd77155a7",
   "metadata": {},
   "outputs": [
    {
     "data": {
      "text/plain": [
       "[1, 3, 9, 28, 34]"
      ]
     },
     "execution_count": 23,
     "metadata": {},
     "output_type": "execute_result"
    }
   ],
   "source": [
    "# 8.Write a Python program that uses the `map()` function to round each element of a list of floating-point numbers to the nearest integer.\n",
    "l = [1.2,3.5,9.99,28.3,34.8]\n",
    "l1 = map(lambda x : int(x) , l)\n",
    "list(l1)"
   ]
  },
  {
   "cell_type": "code",
   "execution_count": 24,
   "id": "6aac609d-5743-4b7a-80ad-9ba6920eaaf8",
   "metadata": {},
   "outputs": [],
   "source": [
    "# Reduce :-"
   ]
  },
  {
   "cell_type": "code",
   "execution_count": 27,
   "id": "79b3f163-1d3c-4373-ab72-8bfde5f5745e",
   "metadata": {},
   "outputs": [
    {
     "name": "stdout",
     "output_type": "stream",
     "text": [
      "120\n"
     ]
    }
   ],
   "source": [
    "# 1.What is the `reduce()` function in Python, and what module should you import to use it? Provide an example of its basic usage.\n",
    "\n",
    "# The reduce() function is a part of the functools module in Python. \n",
    "# It is used for applying a specified binary function cumulatively to the items of an iterable,\n",
    "# from left to right, so as to reduce the iterable to a single accumulated result. In other words, \n",
    "# it successively applies a function to the elements of a sequence, reducing the sequence to a single accumulated result.\n",
    "\n",
    "# Here's the basic syntax of the reduce() function:\n",
    "\n",
    "# functools.reduce(function, iterable[, initializer])\n",
    "# function: The binary function to be applied, which takes two arguments.\n",
    "# iterable: The iterable sequence of elements.\n",
    "# initializer (optional): An initial value for the accumulation.\n",
    "# If provided, the function will be first applied to the initializer and the first element of the iterable.\n",
    "# To use the reduce() function, you need to import it from the functools module:\n",
    "\n",
    "# from functools import reduce\n",
    "\n",
    "from functools import reduce\n",
    "numbers = [1, 2, 3, 4, 5]\n",
    "add = reduce(lambda x,y : x*y , l)\n",
    "print(add)\n"
   ]
  },
  {
   "cell_type": "code",
   "execution_count": 26,
   "id": "d478c21c-f922-474b-9f43-8182513f95c2",
   "metadata": {},
   "outputs": [
    {
     "name": "stdout",
     "output_type": "stream",
     "text": [
      "120\n"
     ]
    }
   ],
   "source": [
    "#2. Write a Python program that uses the `reduce()` function to find the product of all elements in a list.\n",
    "from functools import reduce\n",
    "\n",
    "l = [1,2,3,4,5]\n",
    "\n",
    "product = reduce(lambda x,y : x*y , l)\n",
    "print(product)"
   ]
  },
  {
   "cell_type": "code",
   "execution_count": 29,
   "id": "7ca37bf9-22ce-42ef-bd79-3168184ffb5f",
   "metadata": {},
   "outputs": [
    {
     "name": "stdout",
     "output_type": "stream",
     "text": [
      "10\n"
     ]
    }
   ],
   "source": [
    "# 3.Create a Python program that uses `reduce()` to find the maximum element in a list of numbers.\n",
    "from functools import reduce \n",
    "l = [1,7,4,10,5]\n",
    "max_element = reduce(lambda x,y: max(x,y), l)\n",
    "print(max_element)"
   ]
  },
  {
   "cell_type": "code",
   "execution_count": 31,
   "id": "f3d4114a-cbaf-44c3-909f-30a72cdbefb9",
   "metadata": {},
   "outputs": [
    {
     "name": "stdout",
     "output_type": "stream",
     "text": [
      "pwskills.ai\n"
     ]
    }
   ],
   "source": [
    "#4. How can you use the `reduce()` function to concatenate a list of strings into a single string?\n",
    "from functools import reduce\n",
    "l = [\"pw\" , \"skills\" , \".\" , \"ai\"]\n",
    "concate_str = reduce(lambda x,y : x+y , l)\n",
    "print(concate_str)"
   ]
  },
  {
   "cell_type": "code",
   "execution_count": 42,
   "id": "8455f223-efb4-4a37-8e48-2d42622aee8b",
   "metadata": {},
   "outputs": [
    {
     "name": "stdin",
     "output_type": "stream",
     "text": [
      "Enter the number:  5\n"
     ]
    },
    {
     "name": "stdout",
     "output_type": "stream",
     "text": [
      "Factorial of a 5 is 120\n"
     ]
    }
   ],
   "source": [
    "#5. Write a Python program that calculates the factorial of a number using the `reduce()` function.\n",
    "from functools import reduce\n",
    "n = int(input(\"Enter the number: \"))\n",
    "if n==0:\n",
    "    print(\"Factorial is 1\")\n",
    "else:\n",
    "    fact = reduce(lambda x,y : x*y , range(1,n+1))\n",
    "    print(f\"Factorial of a {n} is {fact}\")"
   ]
  },
  {
   "cell_type": "code",
   "execution_count": 45,
   "id": "b93a6537-25b1-431d-b410-87f6392274a5",
   "metadata": {},
   "outputs": [
    {
     "name": "stdout",
     "output_type": "stream",
     "text": [
      "List of Numbers: [24, 36, 48, 60]\n",
      "GCD: 12\n"
     ]
    }
   ],
   "source": [
    "#6. Create a Python program that uses `reduce()` to find the GCD (Greatest Common Divisor) of a list of numbers.\n",
    "from functools import reduce\n",
    "import math\n",
    "\n",
    "numbers = [24, 36, 48, 60]\n",
    "gcd_result = reduce(lambda x, y: math.gcd(x, y), numbers)\n",
    "\n",
    "print(\"List of Numbers:\", numbers)\n",
    "print(\"GCD:\", gcd_result)\n"
   ]
  },
  {
   "cell_type": "code",
   "execution_count": 44,
   "id": "eac3ea6f-67a4-4939-835f-fb48850ee991",
   "metadata": {},
   "outputs": [
    {
     "name": "stdin",
     "output_type": "stream",
     "text": [
      "Enter the number:  12345\n"
     ]
    },
    {
     "name": "stdout",
     "output_type": "stream",
     "text": [
      "sum of the digits of 12345 is 15\n"
     ]
    }
   ],
   "source": [
    "# 7.Write a Python program that uses the `reduce()` function to find the sum of the digits of a given number.\n",
    "from functools import reduce\n",
    "n = int(input(\"Enter the number: \"))\n",
    "sum_of_digits = reduce(lambda x,y : int(x)+int(y) , str(n) , 0)\n",
    "print(f\"sum of the digits of {n} is {sum_of_digits}\")\n"
   ]
  },
  {
   "cell_type": "code",
   "execution_count": 46,
   "id": "5c26c82e-f695-43d9-be9a-01f6a1944cd5",
   "metadata": {},
   "outputs": [],
   "source": [
    "# Filter :-"
   ]
  },
  {
   "cell_type": "code",
   "execution_count": 47,
   "id": "4eb574aa-539c-459f-802e-25603b58e031",
   "metadata": {},
   "outputs": [
    {
     "data": {
      "text/plain": [
       "[3, 6, 9]"
      ]
     },
     "execution_count": 47,
     "metadata": {},
     "output_type": "execute_result"
    }
   ],
   "source": [
    "# 1.Explain the purpose of the `filter()` function in Python and provide an example of how it can be used to filter elements from an iterable.\n",
    "\n",
    "# The filter() function in Python is a built-in function used to filter elements from an iterable based on a specified function,\n",
    "# typically referred to as the \"predicate.\" It constructs an iterator from those elements of the iterable for which the predicate function returns True. \n",
    "# In other words, it allows you to selectively include or exclude elements from a collection based on a certain condition.\n",
    "\n",
    "# The syntax of the filter() function is as follows:\n",
    "#     filter(function, iterable)\n",
    "\n",
    "# function: The function that tests if each element of the iterable should be included or excluded.\n",
    "# If None, it simply returns the elements of the iterable that are true.\n",
    "# iterable: The iterable (e.g., a list, tuple, or string) from which elements are filtered\n",
    "\n",
    "# fliterate multiples of 3\n",
    "\n",
    "l = [1,2,3,4,5,6,7,8,9,10]\n",
    "filter_l = filter(lambda x : x%3 == 0 , l)\n",
    "list(filter_l)\n"
   ]
  },
  {
   "cell_type": "code",
   "execution_count": 48,
   "id": "9d859dff-c674-403d-a09a-ae65121b2c49",
   "metadata": {},
   "outputs": [
    {
     "data": {
      "text/plain": [
       "[2, 4, 6, 8, 10]"
      ]
     },
     "execution_count": 48,
     "metadata": {},
     "output_type": "execute_result"
    }
   ],
   "source": [
    "# 2.Write a Python program that uses the `filter()` function to select even numbers from a list of integers.\n",
    "\n",
    "l = [1,2,3,4,5,6,7,8,9,10]\n",
    "filter_l = filter(lambda x : x%2 == 0 , l)\n",
    "list(filter_l)\n"
   ]
  },
  {
   "cell_type": "code",
   "execution_count": 51,
   "id": "46674fca-cb87-459f-ba4f-cb181a45e307",
   "metadata": {},
   "outputs": [
    {
     "name": "stdout",
     "output_type": "stream",
     "text": [
      "Original names: ['Alice', 'Bob', 'Charlie', 'David', 'Eva', 'Frank']\n",
      "Names starting with 'D': ['David']\n"
     ]
    }
   ],
   "source": [
    "#3. Create a Python program that uses the `filter()` function to select names that start with a specific letter from a list of strings\n",
    "l = [\"Alice\", \"Bob\", \"Charlie\", \"David\", \"Eva\", \"Frank\"]\n",
    "selected_letter = \"D\"\n",
    "\n",
    "selected_names = filter(lambda x: x.startswith(selected_letter), l)\n",
    "\n",
    "selected_names_list = list(selected_names)\n",
    "\n",
    "print(f\"Original names: {l}\")\n",
    "print(f\"Names starting with '{selected_letter}': {selected_names_list}\")\n"
   ]
  },
  {
   "cell_type": "code",
   "execution_count": 53,
   "id": "597b70fb-7562-427b-941b-5fe39b400664",
   "metadata": {},
   "outputs": [
    {
     "name": "stdout",
     "output_type": "stream",
     "text": [
      "Original numbers: [2, 3, 5, 7, 11, 14, 17, 20, 23, 29, 31]\n",
      "Prime numbers: [2, 3, 5, 7, 11, 17, 23, 29, 31]\n"
     ]
    }
   ],
   "source": [
    "# 4.Write a Python program that uses the `filter()` function to select prime numbers from a list of integers.\n",
    "l = [2, 3, 5, 7, 11, 14, 17, 20, 23, 29, 31]\n",
    "\n",
    "l_prime = filter(lambda n: n > 1 and all(n % i != 0 for i in range(2, int(n**0.5) + 1)), l)\n",
    "\n",
    "prime_numbers_list = list(l_prime)\n",
    "\n",
    "print(f\"Original numbers: {l}\")\n",
    "print(f\"Prime numbers: {prime_numbers_list}\")\n"
   ]
  },
  {
   "cell_type": "code",
   "execution_count": 54,
   "id": "d9def155-54c8-457e-bf7a-63fd76c74e88",
   "metadata": {},
   "outputs": [
    {
     "name": "stdout",
     "output_type": "stream",
     "text": [
      "Original list: [1, None, 'apple', None, 42, None, 'banana']\n",
      "List without None values: [1, 'apple', 42, 'banana']\n"
     ]
    }
   ],
   "source": [
    "#5. How can you use the `filter()` function to remove None values from a list in Python?\n",
    "l = [1, None, \"apple\", None, 42, None, \"banana\"]\n",
    "\n",
    "filtered_list = filter(None, l)\n",
    "\n",
    "filtered_list_result = list(filtered_list)\n",
    "\n",
    "print(\"Original list:\", l)\n",
    "print(\"List without None values:\", filtered_list_result)\n"
   ]
  },
  {
   "cell_type": "code",
   "execution_count": 55,
   "id": "e4579335-2a5d-4fb8-83ea-2fc8c79f3ca2",
   "metadata": {},
   "outputs": [
    {
     "name": "stdout",
     "output_type": "stream",
     "text": [
      "Original words: ['apple', 'banana', 'grape', 'kiwi', 'orange', 'pear']\n",
      "Words longer than 5 characters: ['banana', 'orange']\n"
     ]
    }
   ],
   "source": [
    "#6. Create a Python program that uses `filter()` to select words longer than a certain length from a list of strings.\n",
    "s = [\"apple\", \"banana\", \"grape\", \"kiwi\", \"orange\", \"pear\"]\n",
    "\n",
    "min_length = 5\n",
    "\n",
    "selected_words = filter(lambda word: len(word) > min_length, s)\n",
    "\n",
    "selected_words_list = list(selected_words)\n",
    "\n",
    "print(f\"Original words: {s}\")\n",
    "print(f\"Words longer than {min_length} characters: {selected_words_list}\")\n"
   ]
  },
  {
   "cell_type": "code",
   "execution_count": 57,
   "id": "8260b405-4751-408b-9d07-827c5e34ffe9",
   "metadata": {},
   "outputs": [
    {
     "name": "stdout",
     "output_type": "stream",
     "text": [
      "Original values: [15, 8, 25, 12, 30, 5, 18]\n",
      "Values greater than 20: [25, 30]\n"
     ]
    }
   ],
   "source": [
    "# Write a Python program that uses the `filter()` function to select elements greater than a specified threshold from a list of values.\n",
    "values = [15, 8, 25, 12, 30, 5, 18]\n",
    "threshold = 20\n",
    "\n",
    "selected_values = filter(lambda value: value > threshold, values)\n",
    "\n",
    "selected_values_list = list(selected_values)\n",
    "\n",
    "print(f\"Original values: {values}\")\n",
    "print(f\"Values greater than {threshold}: {selected_values_list}\")\n"
   ]
  },
  {
   "cell_type": "code",
   "execution_count": 58,
   "id": "f41e66c4-c44d-4d3e-bdf4-b53e4e6b641c",
   "metadata": {},
   "outputs": [],
   "source": [
    "# Recursion:-"
   ]
  },
  {
   "cell_type": "code",
   "execution_count": null,
   "id": "8cb8cd8c-51da-4897-b983-3417ba41c17b",
   "metadata": {},
   "outputs": [],
   "source": [
    "#1. Explain the concept of recursion in Python. How does it differ from iteration?\n",
    "\n",
    "\n",
    "# Recursion and iteration are both techniques used in programming for repetitive tasks, \n",
    "# but they differ in their approach to solving problems.\n",
    "\n",
    "# Recursion:\n",
    "# Recursion is a programming concept where a function calls itself in order\n",
    "# to break down a complex problem into simpler subproblems. \n",
    "# Each recursive call solves a smaller instance of the problem, and this continues until reaching a base case,\n",
    "# which is a condition that does not require further recursive calls.\n",
    "\n",
    "# In Python, a recursive function generally consists of two parts:\n",
    "\n",
    "# Base Case(s): The condition that stops the recursion and provides the result for the simplest case.\n",
    "# Recursive Case(s): The part of the function where it calls itself with a modified input, \n",
    "# making progress toward the base case.\n",
    "# Example of a recursive function to calculate the factorial of a number:\n",
    "\n",
    "# Iteration:\n",
    "# Iteration is the process of repeatedly executing a set of statements \n",
    "# or a block of code until a specified condition is met. \n",
    "# In Python, this is often achieved using loops, such as for loops or while loops.\n",
    "\n",
    "# Differences:\n",
    "# Termination:\n",
    "# Recursion: Terminates when a base case is reached.\n",
    "# Iteration: Terminates when a specified condition becomes false.\n",
    "\n",
    "# Memory Usage:\n",
    "# Recursion: Can use more memory due to each recursive call adding to the call stack.\n",
    "# Iteration: Typically uses less memory as it doesn't involve additional function calls on the stack.\n",
    "\n",
    "# Readability:\n",
    "# Recursion: Can be more elegant and concise for problems that naturally exhibit recursive structure.\n",
    "# Iteration: Sometimes more explicit and may be preferred for simple, linear tasks.\n",
    "\n",
    "# Function Calls:\n",
    "# Recursion: Involves multiple function calls, potentially creating a deeper call stack.\n",
    "# Iteration: Achieved through loops and doesn't involve additional function calls.\n",
    "# Both recursion and iteration have their strengths and weaknesses, \n",
    "# and the choice between them often depends on the nature of the problem \n",
    "# and the programming context. Some problems are naturally suited for recursion,\n",
    "# while others may be more straightforwardly solved using iteration."
   ]
  },
  {
   "cell_type": "code",
   "execution_count": 10,
   "id": "36e30ac9-4c97-4042-b31c-9e6749dc7603",
   "metadata": {},
   "outputs": [
    {
     "name": "stdin",
     "output_type": "stream",
     "text": [
      "Enter the number:  5\n"
     ]
    },
    {
     "name": "stdout",
     "output_type": "stream",
     "text": [
      "factorial of 5 is 120\n"
     ]
    }
   ],
   "source": [
    "#2. Write a Python program to calculate the factorial of a number using recursion.\n",
    "def fact(n):\n",
    "    if n==0 :\n",
    "        return 1\n",
    "    else :\n",
    "        return n*fact(n-1)\n",
    "    \n",
    "n = int(input(\"Enter the number: \"))\n",
    "print(f\"factorial of {n} is {fact(n)}\")"
   ]
  },
  {
   "cell_type": "code",
   "execution_count": 14,
   "id": "ddfbf08b-7e0a-43e3-b60b-0792756a3067",
   "metadata": {},
   "outputs": [
    {
     "name": "stdin",
     "output_type": "stream",
     "text": [
      "Enter the number:  5\n"
     ]
    },
    {
     "name": "stdout",
     "output_type": "stream",
     "text": [
      "fibonnaci  of 5 th number is 3\n"
     ]
    }
   ],
   "source": [
    "#3 Create a recursive Python function to find the nth Fibonacci number.\n",
    "def fib(n):\n",
    "    if n == 1:\n",
    "        return 0\n",
    "    elif n == 2:\n",
    "        return 1\n",
    "    else:\n",
    "        return fib(n-2) + fib(n-1)\n",
    "    \n",
    "n = int(input(\"Enter the number: \"))\n",
    "print(f\"fibonnaci  of {n} th number is {fib(n)}\")"
   ]
  },
  {
   "cell_type": "code",
   "execution_count": 16,
   "id": "4cb25c7e-6e9d-451e-98a5-19bfa965d05e",
   "metadata": {},
   "outputs": [
    {
     "name": "stdout",
     "output_type": "stream",
     "text": [
      "The sum of the elements in the list is: 15\n"
     ]
    }
   ],
   "source": [
    "#4. Write a recursive Python function to calculate the sum of all elements in a list.\n",
    "def add(l):\n",
    "    if not l:\n",
    "        return 0\n",
    "    else:\n",
    "        return l[0] + add(l[1:])\n",
    "\n",
    "l = [1, 2, 3, 4, 5]\n",
    "r = add(l)\n",
    "print(f\"The sum of the elements in the list is: {r}\")"
   ]
  },
  {
   "cell_type": "code",
   "execution_count": null,
   "id": "58aee6a0-9681-4140-b48b-436b7fc9af0f",
   "metadata": {},
   "outputs": [],
   "source": [
    "#5 How can you prevent a recursive function from running indefinitely, causing a stack overflow error?\n",
    "\n",
    "# To prevent a recursive function from running indefinitely and causing a stack overflow error,\n",
    "# you can include a termination condition, also known as a base case, in your recursive function. \n",
    "# The base case is a condition that, when met, stops the recursion and returns a specific value or result.\n",
    "# Without a base case, the function would keep calling itself indefinitely, eventually leading to a stack overflow error. \n",
    "# Always ensure that your recursive functions have a well-defined base case to terminate the recursion."
   ]
  },
  {
   "cell_type": "code",
   "execution_count": 1,
   "id": "bebee81e-67b7-46e3-af30-c7acf8af8fd5",
   "metadata": {},
   "outputs": [
    {
     "name": "stdout",
     "output_type": "stream",
     "text": [
      "The GCD of 48 and 18 is: 6\n"
     ]
    }
   ],
   "source": [
    "# 6.Create a recursive Python function to find the greatest common divisor (GCD) of two numbers using the Euclidean algorithm.\n",
    "def euclidean_gcd(a, b):\n",
    "    if b == 0:\n",
    "        return a\n",
    "    else:\n",
    "        return euclidean_gcd(b, a % b)\n",
    "\n",
    "num1 = 48\n",
    "num2 = 18\n",
    "result = euclidean_gcd(num1, num2)\n",
    "print(f\"The GCD of {num1} and {num2} is: {result}\")\n",
    "\n"
   ]
  },
  {
   "cell_type": "code",
   "execution_count": 4,
   "id": "720dd484-ea6c-4cd4-b0a7-bf35442f6e0b",
   "metadata": {},
   "outputs": [
    {
     "data": {
      "text/plain": [
       "'dlrowolleh'"
      ]
     },
     "execution_count": 4,
     "metadata": {},
     "output_type": "execute_result"
    }
   ],
   "source": [
    "# 7.Write a recursive Python function to reverse a string\n",
    "def rev(a):\n",
    "    if len(a) <=1:\n",
    "        return a\n",
    "    else:\n",
    "        return rev(a[1:]) +a[0]\n",
    "\n",
    "rev(\"helloworld\")\n",
    "    "
   ]
  },
  {
   "cell_type": "code",
   "execution_count": 9,
   "id": "5adf1c97-63d8-4848-802d-34eab01f79b6",
   "metadata": {},
   "outputs": [
    {
     "name": "stdin",
     "output_type": "stream",
     "text": [
      "Enter a:  2\n",
      "Enter b:  5\n"
     ]
    },
    {
     "name": "stdout",
     "output_type": "stream",
     "text": [
      "2 raise to the power 5  is 32\n"
     ]
    }
   ],
   "source": [
    "# 8.Create a recursive Python function to calculate the power of a number (x^n).\n",
    "def power(a,b):\n",
    "    if b == 0:\n",
    "        return 1\n",
    "    else:\n",
    "        res = a * power(a,b-1)\n",
    "        return res\n",
    "a = int(input(\"Enter a: \"))\n",
    "b = int(input(\"Enter b: \"))\n",
    "print(f\"{a} raise to the power {b}  is {power(a,b)}\")"
   ]
  },
  {
   "cell_type": "code",
   "execution_count": 10,
   "id": "e361ed1e-cf7d-48c2-bd22-39b0da4423e5",
   "metadata": {},
   "outputs": [
    {
     "name": "stdout",
     "output_type": "stream",
     "text": [
      "All permutations of 'abc': ['abc', 'acb', 'bac', 'bca', 'cab', 'cba']\n"
     ]
    }
   ],
   "source": [
    "# 9.Write a recursive Python function to find all permutations of a given string.\n",
    "def recursive_permutations(input_str):\n",
    "    if len(input_str) == 1:\n",
    "        return [input_str]\n",
    "    \n",
    "    result = []\n",
    "    for i in range(len(input_str)):\n",
    "        first_char = input_str[i]\n",
    "        rest_of_string = input_str[:i] + input_str[i+1:]\n",
    "        \n",
    "        permutations_of_rest = recursive_permutations(rest_of_string)\n",
    "        \n",
    "        result.extend([first_char + perm for perm in permutations_of_rest])\n",
    "    \n",
    "    return result\n",
    "\n",
    "original_string = \"abc\"\n",
    "permutations = recursive_permutations(original_string)\n",
    "print(f\"All permutations of '{original_string}': {permutations}\")\n"
   ]
  },
  {
   "cell_type": "code",
   "execution_count": 18,
   "id": "380cc945-c696-41f7-9c0d-9b9e20a4bdda",
   "metadata": {},
   "outputs": [
    {
     "data": {
      "text/plain": [
       "False"
      ]
     },
     "execution_count": 18,
     "metadata": {},
     "output_type": "execute_result"
    }
   ],
   "source": [
    "#10. Write a recursive Python function to check if a string is a palindrome.\n",
    "def palindrome(a):\n",
    "    if len(a)<= 1:\n",
    "        return True\n",
    "    else:\n",
    "        if a[0] == a[-1]:\n",
    "            return palindrome(a[1:-1])\n",
    "        else:\n",
    "            return False\n",
    "\n",
    "palindrome(\"pwskills\")       "
   ]
  },
  {
   "cell_type": "code",
   "execution_count": 19,
   "id": "7989abbd-de2a-44db-a67b-3e26852327f0",
   "metadata": {},
   "outputs": [
    {
     "name": "stdout",
     "output_type": "stream",
     "text": [
      "All combinations of [1, 2, 3]: [[], [3], [2], [2, 3], [1], [1, 3], [1, 2], [1, 2, 3]]\n"
     ]
    }
   ],
   "source": [
    "#11. Create a recursive Python function to generate all possible combinations of a list of elements.\n",
    "def generate_combinations(elements):\n",
    "    if not elements:\n",
    "        return [[]]\n",
    "\n",
    "    combinations_without_first = generate_combinations(elements[1:])\n",
    "    combinations_with_first = [ [elements[0]] + combo for combo in combinations_without_first]\n",
    "\n",
    "    all_combinations = combinations_without_first + combinations_with_first\n",
    "\n",
    "    return all_combinations\n",
    "\n",
    "my_list = [1, 2, 3]\n",
    "combinations = generate_combinations(my_list)\n",
    "print(f\"All combinations of {my_list}: {combinations}\")\n",
    "\n"
   ]
  },
  {
   "cell_type": "code",
   "execution_count": null,
   "id": "aefd75f9-f54e-4f8e-8469-e0bd844273a1",
   "metadata": {},
   "outputs": [],
   "source": [
    "# Basics of Functions:"
   ]
  },
  {
   "cell_type": "code",
   "execution_count": null,
   "id": "541626ab-a028-413d-acf0-bda826c1567b",
   "metadata": {},
   "outputs": [],
   "source": [
    "#  1.What is a function in Python, and why is it used?\n",
    "\n",
    "# In Python, a function is a block of organized, reusable code that performs a specific task.\n",
    "# Functions provide a way to structure code into logical units, making it more modular and easier to manage. \n",
    "# Functions in Python are defined using the def keyword, followed by the function name, parameters, and a block of code that defines what the function does.\n",
    "\n",
    "# Here are some key aspects of functions in Python:\n",
    "\n",
    "# Modularity: Functions allow you to break down a complex problem into smaller, more manageable pieces. \n",
    "# Each function can focus on a specific aspect of the problem, making the code more readable and maintainable.\n",
    "\n",
    "# Reuse: Once a function is defined, it can be called from different parts of the code, promoting code reuse. \n",
    "# This can save time and effort since you don't need to rewrite the same logic in multiple places.\n",
    "\n",
    "# Abstraction: Functions provide a level of abstraction, allowing you to use a function without needing to know the details of its implementation. \n",
    "# This helps in hiding complexity and makes the code more understandable.\n",
    "\n",
    "# Readability: Functions enhance code readability by giving meaningful names to blocks of code that perform specific tasks. \n",
    "# This makes it easier for others (or yourself) to understand the purpose of different parts of the code.\n",
    "\n",
    "# Parameterization: Functions can take parameters, allowing them to receive input values that influence their behavior. \n",
    "# This makes functions flexible and adaptable to different scenarios.\n",
    "\n",
    "# Return Values: Functions can return values to the caller, allowing them to produce a result that can be used elsewhere in the code.\n"
   ]
  },
  {
   "cell_type": "code",
   "execution_count": 20,
   "id": "86965598-47eb-4036-86fa-7a963816d1c9",
   "metadata": {},
   "outputs": [
    {
     "name": "stdout",
     "output_type": "stream",
     "text": [
      "The sum is: 10\n"
     ]
    }
   ],
   "source": [
    "# 2.How do you define a function in Python? Provide an example.\n",
    "\n",
    "# In Python, you can define a function using the def keyword, followed by the function name, parameters (if any), a colon (:),\n",
    "# and a block of code that defines the function's behavior. \n",
    "\n",
    "# Here's the basic syntax:\n",
    "\n",
    "# def function_name(parameters):\n",
    "#     # Code block defining the function\n",
    "#     # ...\n",
    "#     return result  # Optional: If the function returns a value\n",
    "\n",
    "def add_numbers(a, b):\n",
    "    \"\"\"This function adds two numbers.\"\"\"\n",
    "    result = a + b\n",
    "    return result\n",
    "\n",
    "# Example usage:\n",
    "sum_result = add_numbers(3, 7)\n",
    "print(f\"The sum is: {sum_result}\")\n",
    "\n"
   ]
  },
  {
   "cell_type": "code",
   "execution_count": null,
   "id": "30150805-7439-4efc-b9f7-c819e3af29ab",
   "metadata": {},
   "outputs": [],
   "source": [
    "# # 3.Explain the difference between a function definition and a function call.\n",
    "# The terms \"function definition\" and \"function call\" refer to two distinct aspects of working with functions in programming, and they serve different purposes:\n",
    "\n",
    "# 1. **Function Definition:**\n",
    "#    - **Purpose:** A function definition is where you actually create and specify the behavior of a function. \n",
    "#     It outlines what the function does, what parameters it takes (if any), and what value it returns (if any).\n",
    "#    - **Syntax:** The definition of a function in Python starts with the `def` keyword, followed by the function name, \n",
    "# parameters (if any), a colon (`:`), and a code block that contains the logic of the function.\n",
    "#    - **Example:**\n",
    "#      ```python\n",
    "#      def add_numbers(a, b):\n",
    "#          \"\"\"This function adds two numbers.\"\"\"\n",
    "#          result = a + b\n",
    "#          return result\n",
    "#      ```\n",
    "#    - **Note:** Defining a function doesn't execute the code inside the function; it merely defines what the function does when called.\n",
    "\n",
    "# 2. **Function Call:**\n",
    "#    - **Purpose:** A function call is the actual execution of a defined function. When you call a function, \n",
    "#     you are instructing the program to run the code inside that function with specific values (arguments) if required.\n",
    "#    - **Syntax:** To call a function, you use the function's name followed by parentheses `()` containing the arguments (if any) that the function expects.\n",
    "#    - **Example:**\n",
    "#      ```python\n",
    "#      sum_result = add_numbers(3, 7)\n",
    "#      ```\n",
    "#    - **Note:** The function is called with the arguments `3` and `7`. \n",
    "# The actual code inside the function is now executed, and the result is assigned to the variable `sum_result`.\n"
   ]
  },
  {
   "cell_type": "code",
   "execution_count": 21,
   "id": "74121ae3-2216-4465-a1fa-0cf6ebe90219",
   "metadata": {},
   "outputs": [
    {
     "name": "stdout",
     "output_type": "stream",
     "text": [
      "The sum is: 10\n"
     ]
    }
   ],
   "source": [
    "# 4.Write a Python program that defines a function to calculate the sum of two numbers and then calls the function.\n",
    "def add_numbers(a, b):\n",
    "    result = a + b\n",
    "    return result\n",
    "\n",
    "sum_result = add_numbers(3, 7)\n",
    "print(f\"The sum is: {sum_result}\")"
   ]
  },
  {
   "cell_type": "code",
   "execution_count": null,
   "id": "e32fedcc-ce72-4379-b1b3-9b4990548e55",
   "metadata": {},
   "outputs": [],
   "source": [
    "# 5.What is a function signature, and what information does it typically include?\n",
    "# A function signature is a part of a function declaration or definition that specifies essential information about the function.\n",
    "# It serves as a concise summary of the function's interface, providing information to both developers reading the code and the Python interpreter. \n",
    "# The function signature typically includes the following elements:\n",
    "\n",
    "# 1. **Function Name:**\n",
    "#    - The name of the function, which is used to identify and call the function.\n",
    "\n",
    "# 2. **Parameters:**\n",
    "#    - The list of parameters that the function accepts. Each parameter includes a name and may have a type annotation.\n",
    "#     Parameters are enclosed in parentheses and separated by commas.\n",
    "\n",
    "# 3. **Return Type:**\n",
    "#    - The data type of the value that the function returns. This is often specified using a \"->\" syntax or the `->` arrow.\n",
    "\n",
    "# 4. **Documentation (Docstring):**\n",
    "#    - An optional documentation string (docstring) enclosed in triple-quotes (`\"\"\"`) that provides information about the purpose and usage of the function.\n",
    "\n",
    "# Here's an example of a function signature:\n",
    "\n",
    "# ```python\n",
    "# def calculate_area(length: float, width: float) -> float:\n",
    "#     \"\"\"Calculates the area of a rectangle.\"\"\"\n",
    "#     # Function body...\n",
    "#     return length * width\n",
    "# ```\n",
    "\n",
    "# In this example:\n",
    "\n",
    "# - **Function Name:** `calculate_area`\n",
    "# - **Parameters:** `length` and `width` with type annotations (`float`)\n",
    "# - **Return Type:** `float`\n",
    "# - **Docstring:** \"Calculates the area of a rectangle.\"\n",
    "\n",
    "# The function signature concisely communicates what the function does, what parameters it expects, and the type of value it returns. \n",
    "# It serves as documentation for users of the function, making it easier to understand and use. \n",
    "# While the type annotations and docstring are optional, they are good practices for writing clear and self-documenting code."
   ]
  },
  {
   "cell_type": "code",
   "execution_count": 23,
   "id": "80b8ae5b-cfd3-452f-a9aa-da08be38b269",
   "metadata": {},
   "outputs": [
    {
     "name": "stdout",
     "output_type": "stream",
     "text": [
      "The sum is: 21\n"
     ]
    }
   ],
   "source": [
    "#6. Create a Python function that takes two arguments and returns their product.\n",
    "def mul(a, b):\n",
    "    result = a * b\n",
    "    return result\n",
    "\n",
    "mul_result = mul(3, 7)\n",
    "print(f\"The sum is: {mul_result}\")\n"
   ]
  },
  {
   "cell_type": "code",
   "execution_count": null,
   "id": "6254d947-82d2-47d3-a541-d267d52b8d01",
   "metadata": {},
   "outputs": [],
   "source": [
    "# Function Parameters and Arguments:\n"
   ]
  },
  {
   "cell_type": "code",
   "execution_count": null,
   "id": "f9ec5454-7001-46b3-9d7a-ffa4a545b387",
   "metadata": {},
   "outputs": [],
   "source": [
    "# # 1.Explain the concepts of formal parameters and actual arguments in Python functions.\n",
    "\n",
    "# In Python functions, the terms \"formal parameters\" and \"actual arguments\" refer to the variables used in the function definition (parameters) \n",
    "# and the values or expressions provided when calling the function (arguments), respectively.\n",
    "\n",
    "# 1. **Formal Parameters:**\n",
    "#    - **Definition:** Formal parameters are placeholders for the values that a function will receive when it is called. \n",
    "#     They are variables listed in the function definition and act as local variables within the function.\n",
    "#    - **Syntax:** Formal parameters are defined within the parentheses following the function name in the function definition.\n",
    "#    - **Example:**\n",
    "#      ```python\n",
    "#      def add_numbers(x, y):  # x and y are formal parameters\n",
    "#          result = x + y\n",
    "#          return result\n",
    "#      ```\n",
    "#    - **Note:** The names `x` and `y` are the formal parameters in this example. They are used as variables inside the function to perform operations.\n",
    "\n",
    "# 2. **Actual Arguments (Arguments):**\n",
    "#    - **Definition:** Actual arguments, often referred to simply as \"arguments,\" are the values or expressions supplied when calling a function. \n",
    "#     They are the actual data that will be used by the formal parameters inside the function.\n",
    "#    - **Syntax:** Actual arguments are provided within the parentheses when calling a function.\n",
    "#    - **Example:**\n",
    "#      ```python\n",
    "#      sum_result = add_numbers(3, 7)  # 3 and 7 are actual arguments\n",
    "#      ```\n",
    "#    - **Note:** In this example, `3` and `7` are the actual arguments. \n",
    "# They are passed to the function `add_numbers`, and inside the function, `x` receives the value `3`, and `y` receives the value `7`.\n"
   ]
  },
  {
   "cell_type": "code",
   "execution_count": 24,
   "id": "c8cde6dc-7a65-40c1-b03b-6558249219be",
   "metadata": {},
   "outputs": [
    {
     "name": "stdout",
     "output_type": "stream",
     "text": [
      "The sum is: 12\n"
     ]
    }
   ],
   "source": [
    "#2. Write a Python program that defines a function with default argument values.\n",
    "\n",
    "def mul(a, b = 4):\n",
    "    result = a * b\n",
    "    return result\n",
    "\n",
    "mul_result = mul(3)\n",
    "print(f\"The sum is: {mul_result}\")"
   ]
  },
  {
   "cell_type": "code",
   "execution_count": 25,
   "id": "3d97887d-20c1-4965-a78b-2f0f618ce428",
   "metadata": {},
   "outputs": [
    {
     "name": "stdout",
     "output_type": "stream",
     "text": [
      "Name: lohith, Age: 25, City: india\n",
      "Name: kavya, Age: 30, City: TechCity\n"
     ]
    }
   ],
   "source": [
    "# 3.How do you use keyword arguments in Python function calls? Provide an example.\n",
    "\n",
    "# In Python, you can use keyword arguments in function calls to explicitly specify the values for specific parameters by using the parameter names. \n",
    "# This allows you to provide arguments out of order and makes the code more readable.\n",
    "\n",
    "# Here's an example:\n",
    "\n",
    "def print_person_info(name, age, city):\n",
    "    \"\"\"This function prints information about a person.\"\"\"\n",
    "    print(f\"Name: {name}, Age: {age}, City: {city}\")\n",
    "\n",
    "print_person_info(name=\"lohith\", age=25, city=\"india\")\n",
    "print_person_info(city=\"TechCity\", name=\"kavya\", age=30)\n"
   ]
  },
  {
   "cell_type": "code",
   "execution_count": 29,
   "id": "f0918088-bdd7-4c75-92ed-59aa93845dc3",
   "metadata": {},
   "outputs": [
    {
     "name": "stdout",
     "output_type": "stream",
     "text": [
      "The sum is: 12\n"
     ]
    }
   ],
   "source": [
    "#4.Create a Python function that accepts a variable number of arguments and calculates their sum.\n",
    "def add(*args):\n",
    "    result = sum(args)\n",
    "    return result\n",
    "\n",
    "add_result = add(3,4,5)\n",
    "print(f\"The sum is: {add_result}\")"
   ]
  },
  {
   "cell_type": "code",
   "execution_count": null,
   "id": "d818da89-d2fe-4a3d-a464-86ba6877d970",
   "metadata": {},
   "outputs": [],
   "source": [
    "# #5. What is the purpose of the `*args` and `**kwargs` syntax in function parameter lists?\n",
    "\n",
    "# In Python, `*args` and `**kwargs` are used in function parameter lists to handle a variable number of arguments. \n",
    "# They allow you to work with an arbitrary number of positional and keyword arguments, respectively.\n",
    "\n",
    "# 1. **`*args`: Variable Positional Arguments:**\n",
    "#    - **Purpose:** `*args` is used to pass a variable number of positional arguments to a function.\n",
    "# It allows a function to accept any number of arguments without explicitly specifying the number of parameters.\n",
    "#    - **Syntax:** `*args` is placed in the function parameter list, and it collects all positional arguments into a tuple.\n",
    "#    - **Example:**\n",
    "#      ```python\n",
    "#      def sum_all(*args):\n",
    "#          return sum(args)\n",
    "\n",
    "#      result = sum_all(1, 2, 3, 4, 5)\n",
    "#      print(result)  # Output: 15\n",
    "#      ```\n",
    "\n",
    "# 2. **`**kwargs`: Variable Keyword Arguments:**\n",
    "#    - **Purpose:** `**kwargs` is used to pass a variable number of keyword arguments to a function.\n",
    "# It allows a function to accept any number of keyword arguments without explicitly specifying the names.\n",
    "#    - **Syntax:** `**kwargs` is placed in the function parameter list, and it collects all keyword arguments into a dictionary.\n",
    "#    - **Example:**\n",
    "#      ```python\n",
    "#      def print_info(**kwargs):\n",
    "#          for key, value in kwargs.items():\n",
    "#              print(f\"{key}: {value}\")\n",
    "\n",
    "#      print_info(name=\"Alice\", age=25, city=\"Wonderland\")\n",
    "#      # Output:\n",
    "#      # name: Alice\n",
    "#      # age: 25\n",
    "#      # city: Wonderland\n",
    "#      ```"
   ]
  },
  {
   "cell_type": "code",
   "execution_count": null,
   "id": "08fcfceb-d9ab-4f29-b9b3-384ee5cae0ac",
   "metadata": {},
   "outputs": [],
   "source": [
    "# Return Values and Scoping:"
   ]
  },
  {
   "cell_type": "code",
   "execution_count": null,
   "id": "220d5887-b26f-41fc-bbe6-47973863e4aa",
   "metadata": {},
   "outputs": [],
   "source": [
    "# # 1.Describe the role of the `return` statement in Python functions and provide examples.\n",
    "\n",
    "# The `return` statement in Python functions is used to exit the function and return a value to the caller.\n",
    "# It marks the end of the function's execution and provides a way for the function to send a result or output back to the part of the program that called it.\n",
    "# The `return` statement can also be used to exit a function prematurely, even if it's not at the end of the function.\n",
    "\n",
    "# Here's the basic syntax of the `return` statement:\n",
    "\n",
    "# ```python\n",
    "# def my_function(parameters):\n",
    "#     # Function logic here\n",
    "#     return result  # Optional: value to be returned\n",
    "# ```\n",
    "\n",
    "# And here are some examples to illustrate the role of the `return` statement:\n",
    "\n",
    "# 1. **Returning a Value:**\n",
    "#    ```python\n",
    "#    def add_numbers(a, b):\n",
    "#        result = a + b\n",
    "#        return result\n",
    "\n",
    "#    sum_result = add_numbers(3, 4)\n",
    "#    print(f\"The sum is: {sum_result}\")\n",
    "#    ```\n",
    "#    In this example, the `return result` statement sends the calculated sum back to the caller.\n",
    "\n",
    "# 2. **Exiting Prematurely:**\n",
    "#    ```python\n",
    "#    def check_positive(number):\n",
    "#        if number <= 0:\n",
    "#            return False\n",
    "#        else:\n",
    "#            return True\n",
    "\n",
    "#    is_positive = check_positive(5)\n",
    "#    print(f\"Is it positive? {is_positive}\")\n",
    "#    ```\n",
    "#    In this example, if the `number` is less than or equal to 0, the function exits prematurely and returns `False`.\n",
    "#     Otherwise, it continues to the next `return True` statement.\n",
    "\n",
    "# 3. **Returning Multiple Values:**\n",
    "#    ```python\n",
    "#    def calculate_square_and_cube(number):\n",
    "#        square = number ** 2\n",
    "#        cube = number ** 3\n",
    "#        return square, cube\n",
    "\n",
    "#    square_result, cube_result = calculate_square_and_cube(4)\n",
    "#    print(f\"Square: {square_result}, Cube: {cube_result}\")\n",
    "#    ```\n",
    "#    In this example, the function returns two values (`square` and `cube`) as a tuple.\n",
    "\n",
    "# Remember that when a function doesn't have a `return` statement or if it has a `return` statement without a value, it implicitly returns `None`.\n",
    "# The `return` statement plays a crucial role in controlling the flow of the program and passing information between different parts of the code."
   ]
  },
  {
   "cell_type": "code",
   "execution_count": null,
   "id": "4b1a509e-93e9-4ecf-a2dc-31df38743f9f",
   "metadata": {},
   "outputs": [],
   "source": [
    "# #2.Explain the concept of variable scope in Python, including local and global variables.\n",
    "\n",
    "# Variable scope in Python refers to the region of a program where a variable is recognized, \n",
    "# and it determines the portion of the code where you can access or modify a particular variable.\n",
    "# Python has two main types of variable scope: local scope and global scope.\n",
    "\n",
    "# 1. **Local Scope:**\n",
    "#    - **Definition:** Variables defined inside a function have local scope. They are only accessible within that specific function.\n",
    "#    - **Example:**\n",
    "#      ```python\n",
    "#      def my_function():\n",
    "#          local_variable = \"I am local\"\n",
    "#          print(local_variable)\n",
    "\n",
    "#      my_function()\n",
    "#      # print(local_variable)  # This would result in an error\n",
    "#      ```\n",
    "#    - In this example, `local_variable` is only accessible within the `my_function` function. \n",
    "# Attempting to access it outside the function would result in an error.\n",
    "\n",
    "# 2. **Global Scope:**\n",
    "#    - **Definition:** Variables defined outside any function or block have global scope. \n",
    "#     They can be accessed from any part of the code, including functions.\n",
    "#    - **Example:**\n",
    "#      ```python\n",
    "#      global_variable = \"I am global\"\n",
    "\n",
    "#      def another_function():\n",
    "#          print(global_variable)\n",
    "\n",
    "#      another_function()\n",
    "#      print(global_variable)\n",
    "#      ```\n",
    "#    - Here, `global_variable` is defined outside any function, making it accessible both inside and outside functions.\n",
    "\n",
    "# 3. **Variable Shadowing:**\n",
    "#    - **Definition:** Variable shadowing occurs when a local variable has the same name as a global variable,\n",
    "#     causing the local variable to \"shadow\" or take precedence over the global variable within the function.\n",
    "#    - **Example:**\n",
    "#      ```python\n",
    "#      shadow_variable = \"I am global\"\n",
    "\n",
    "#      def function_with_shadowing():\n",
    "#          shadow_variable = \"I am local\"\n",
    "#          print(shadow_variable)\n",
    "\n",
    "#      function_with_shadowing()\n",
    "#      print(shadow_variable)  # This prints the global variable\n",
    "#      ```\n",
    "#    - In this example, within the function, the local variable `shadow_variable` takes precedence over the global one."
   ]
  },
  {
   "cell_type": "code",
   "execution_count": 30,
   "id": "f1e36c23-623b-4036-b95a-1d5276640f6a",
   "metadata": {},
   "outputs": [
    {
     "name": "stdout",
     "output_type": "stream",
     "text": [
      "I am global\n",
      "I am global\n"
     ]
    }
   ],
   "source": [
    "# 3.Write a Python program that demonstrates the use of global variables within functions\n",
    "global_variable = \"I am global\"\n",
    "\n",
    "def another_function():\n",
    "    print(global_variable)\n",
    "\n",
    "another_function()\n",
    "print(global_variable)\n"
   ]
  },
  {
   "cell_type": "code",
   "execution_count": 31,
   "id": "bf91fce0-8242-40a9-92e6-c54f88557587",
   "metadata": {},
   "outputs": [
    {
     "name": "stdin",
     "output_type": "stream",
     "text": [
      "Enter the number:  6\n"
     ]
    },
    {
     "name": "stdout",
     "output_type": "stream",
     "text": [
      "factorial of 6 is 720\n"
     ]
    }
   ],
   "source": [
    "#4. Create a Python function that calculates the factorial of a number and returns it.\n",
    "def fact(n):\n",
    "    if n==0 :\n",
    "        return 1\n",
    "    else :\n",
    "        return n*fact(n-1)\n",
    "    \n",
    "n = int(input(\"Enter the number: \"))\n",
    "print(f\"factorial of {n} is {fact(n)}\")"
   ]
  },
  {
   "cell_type": "code",
   "execution_count": 32,
   "id": "d72608bd-acbe-4014-b24b-02e7851a0a53",
   "metadata": {},
   "outputs": [
    {
     "name": "stdout",
     "output_type": "stream",
     "text": [
      "I am global\n"
     ]
    }
   ],
   "source": [
    "#5. How can you access variables defined outside a function from within the function?\n",
    "global_variable = \"I am global\"\n",
    "\n",
    "def access_global_variable():\n",
    "    print(global_variable)\n",
    "\n",
    "access_global_variable()\n"
   ]
  },
  {
   "cell_type": "code",
   "execution_count": null,
   "id": "56159f22-53c1-420a-ba83-328e8103d33e",
   "metadata": {},
   "outputs": [],
   "source": [
    "# Lambda Functions and Higher-Order Functions:"
   ]
  },
  {
   "cell_type": "code",
   "execution_count": null,
   "id": "815f87c6-fd44-463a-8d2a-41d076c93a5e",
   "metadata": {},
   "outputs": [],
   "source": [
    "# 1.What are lambda functions in Python, and when are they typically used?\n",
    "\n",
    "# In Python, a lambda function is a concise way to create anonymous functions, also known as inline functions or lambda expressions.\n",
    "# Unlike regular functions defined using the `def` keyword, lambda functions are defined using the `lambda` keyword.\n",
    "# Lambda functions are often used for short, simple operations, and they can be used in places where functions are required as arguments, \n",
    "# such as in higher-order functions like `map()`, `filter()`, and `sorted()`.\n",
    "\n",
    "# Here's the basic syntax of a lambda function:\n",
    "\n",
    "# ```python\n",
    "# lambda arguments: expression\n",
    "# ```\n",
    "\n",
    "# - `lambda`: Keyword used to define a lambda function.\n",
    "# - `arguments`: Parameters the lambda function takes (similar to the parameters in a regular function).\n",
    "# - `expression`: Single expression that the lambda function evaluates and returns.\n",
    "\n",
    "# Here's an example of a simple lambda function:\n",
    "\n",
    "# ```python\n",
    "# multiply = lambda x, y: x * y\n",
    "# result = multiply(3, 4)\n",
    "# print(result)  # Output: 12\n",
    "# ```\n",
    "\n",
    "# In this example, the lambda function takes two parameters (`x` and `y`) and returns their product.\n",
    "# The lambda function is assigned to the variable `multiply`, which can then be called with arguments.\n",
    "\n",
    "# Lambda functions are typically used in the following scenarios:\n",
    "\n",
    "# 1. **Short-lived Functions:** When a small, temporary function is needed for a short duration, \n",
    "# lambda functions provide a concise way to define them without the need for a formal function definition.\n",
    "\n",
    "# 2. **Functional Programming:** Lambda functions are commonly used in functional programming paradigms\n",
    "# where functions can be passed as arguments to other functions (higher-order functions). For example, in `map()`, `filter()`, or `sorted()` functions.\n",
    "\n",
    "#    ```python\n",
    "#    numbers = [1, 4, 2, 7, 5]\n",
    "#    squared_numbers = map(lambda x: x**2, numbers)\n",
    "#    print(list(squared_numbers))  # Output: [1, 16, 4, 49, 25]\n",
    "#    ```\n",
    "\n",
    "# 3. **Concise Expressions:** When the functionality of a function is straightforward and can be expressed in a single line,\n",
    "# lambda functions offer a more concise alternative."
   ]
  },
  {
   "cell_type": "code",
   "execution_count": 33,
   "id": "ddc835bb-2f38-4583-9227-e46eae62e71f",
   "metadata": {},
   "outputs": [
    {
     "name": "stdout",
     "output_type": "stream",
     "text": [
      "Original List: [(1, 5), (3, 2), (2, 8), (4, 1)]\n",
      "Sorted List based on the second element: [(4, 1), (3, 2), (1, 5), (2, 8)]\n"
     ]
    }
   ],
   "source": [
    "# 2.Write a Python program that uses lambda functions to sort a list of tuples based on the second element.\n",
    "\n",
    "tuples_list = [(1, 5), (3, 2), (2, 8), (4, 1)]\n",
    "\n",
    "sorted_list = sorted(tuples_list, key=lambda x: x[1])\n",
    "\n",
    "print(\"Original List:\", tuples_list)\n",
    "print(\"Sorted List based on the second element:\", sorted_list)\n"
   ]
  },
  {
   "cell_type": "code",
   "execution_count": 34,
   "id": "6b087962-3b68-4003-bc18-0b27e3a01c02",
   "metadata": {},
   "outputs": [
    {
     "name": "stdout",
     "output_type": "stream",
     "text": [
      "Result of addition: 7\n",
      "Result of multiplication: 12\n"
     ]
    }
   ],
   "source": [
    "#3. Explain the concept of higher-order functions in Python, and provide an example.\n",
    "def apply_operation(x, y, operation):\n",
    "    return operation(x, y)\n",
    "\n",
    "def add(a, b):\n",
    "    return a + b\n",
    "\n",
    "def multiply(a, b):\n",
    "    return a * b\n",
    "\n",
    "result_addition = apply_operation(3, 4, add)\n",
    "result_multiplication = apply_operation(3, 4, multiply)\n",
    "\n",
    "print(f\"Result of addition: {result_addition}\")\n",
    "print(f\"Result of multiplication: {result_multiplication}\")\n"
   ]
  },
  {
   "cell_type": "code",
   "execution_count": 35,
   "id": "d86de735-2605-46d9-803f-8eb1bea58a75",
   "metadata": {},
   "outputs": [
    {
     "name": "stdout",
     "output_type": "stream",
     "text": [
      "Result of applying 'double' function: [2, 4, 6, 8, 10]\n",
      "Result of applying 'square' function: [1, 4, 9, 16, 25]\n"
     ]
    }
   ],
   "source": [
    "#4. Create a Python function that takes a list of numbers and a function as arguments, applying the function to each element in the list.\n",
    "\n",
    "def apply_function_to_list(numbers, custom_function):\n",
    "    result = [custom_function(num) for num in numbers]\n",
    "    return result\n",
    "\n",
    "def double(x):\n",
    "    return x * 2\n",
    "\n",
    "def square(x):\n",
    "    return x ** 2\n",
    "\n",
    "numbers_list = [1, 2, 3, 4, 5]\n",
    "\n",
    "result_double = apply_function_to_list(numbers_list, double)\n",
    "print(\"Result of applying 'double' function:\", result_double)\n",
    "\n",
    "result_square = apply_function_to_list(numbers_list, square)\n",
    "print(\"Result of applying 'square' function:\", result_square)\n"
   ]
  },
  {
   "cell_type": "code",
   "execution_count": null,
   "id": "468aabc6-328b-44df-b44e-c02461a99a60",
   "metadata": {},
   "outputs": [],
   "source": [
    "# Built-in Functions:\n"
   ]
  },
  {
   "cell_type": "code",
   "execution_count": null,
   "id": "1201f386-4a45-4653-8a51-c809fdd84fb4",
   "metadata": {},
   "outputs": [],
   "source": [
    "#1.Describe the role of built-in functions like `len()`, `max()`, and `min()` in Python.\n",
    "\n",
    "# Built-in functions like `len()`, `max()`, and `min()` in Python are functions provided by the Python programming language \n",
    "# to perform common operations on data structures, such as strings, lists, tuples, and other iterable objects. \n",
    "# These functions are part of the Python Standard Library and are readily available for use without the need for additional imports. \n",
    "# Here's an overview of their roles:\n",
    "\n",
    "# 1. **`len()`:**\n",
    "#    - **Role:** The `len()` function is used to determine the number of elements in an iterable or the length of a sequence (e.g., strings, lists, tuples).\n",
    "#    - **Example:**\n",
    "#      ```python\n",
    "#      string_length = len(\"Hello, World!\")\n",
    "#      print(\"Length of the string:\", string_length)\n",
    "#      ```\n",
    "#      Output: `Length of the string: 13`\n",
    "\n",
    "# 2. **`max()`:**\n",
    "#    - **Role:** The `max()` function is used to find the largest element in an iterable or among multiple arguments.\n",
    "#    - **Example:**\n",
    "#      ```python\n",
    "#      max_value = max(3, 7, 2, 9, 5)\n",
    "#      print(\"Maximum value:\", max_value)\n",
    "#      ```\n",
    "#      Output: `Maximum value: 9`\n",
    "\n",
    "# 3. **`min()`:**\n",
    "#    - **Role:** The `min()` function is used to find the smallest element in an iterable or among multiple arguments.\n",
    "#    - **Example:**\n",
    "#      ```python\n",
    "#      min_value = min(3, 7, 2, 9, 5)\n",
    "#      print(\"Minimum value:\", min_value)\n",
    "#      ```\n",
    "#      Output: `Minimum value: 2`\n",
    "\n",
    "# These built-in functions provide convenient and efficient ways to perform common operations \n",
    "# without the need for users to implement the functionality from scratch.\n",
    "# They are designed to work with a wide range of data types and are used extensively in Python programming for tasks related to data analysis, manipulation,\n",
    "# and general-purpose programming."
   ]
  },
  {
   "cell_type": "code",
   "execution_count": 36,
   "id": "d43bc13c-eaf6-4234-960f-e3f1ad0b0aca",
   "metadata": {},
   "outputs": [
    {
     "name": "stdout",
     "output_type": "stream",
     "text": [
      "Original Numbers: [1, 2, 3, 4, 5]\n",
      "Squared Numbers: [1, 4, 9, 16, 25]\n"
     ]
    }
   ],
   "source": [
    "#2.Write a Python program that uses the `map()` function to apply a function to each element of a list.\n",
    "def square(x):\n",
    "    return x ** 2\n",
    "\n",
    "numbers_list = [1, 2, 3, 4, 5]\n",
    "\n",
    "squared_numbers = map(square, numbers_list)\n",
    "\n",
    "print(\"Original Numbers:\", numbers_list)\n",
    "print(\"Squared Numbers:\", list(squared_numbers))\n"
   ]
  },
  {
   "cell_type": "code",
   "execution_count": null,
   "id": "8d757761-f995-4141-9ac8-25ff95291aff",
   "metadata": {},
   "outputs": [],
   "source": [
    "#3.How does the `filter()` function work in Python, and when would you use it?\n",
    "\n",
    "\n",
    "# The filter() function in Python is used to construct an iterator from elements of an iterable for which a function returns True. \n",
    "# It filters out elements based on the specified function, allowing only those elements that satisfy the given condition to be included in the resulting iterable.\n",
    "\n",
    "# Here's the basic syntax of the filter() function:\n",
    "\n",
    "# filter(function, iterable)\n",
    "\n",
    "# function: A function that tests each element of the iterable. If the function returns True, the element is included in the result; otherwise, it is excluded.\n",
    "# iterable: An iterable (e.g., a list, tuple, etc.) whose elements are tested by the function."
   ]
  },
  {
   "cell_type": "code",
   "execution_count": 37,
   "id": "77a53f8d-89ad-401f-b165-31fb8476d76b",
   "metadata": {},
   "outputs": [
    {
     "name": "stdout",
     "output_type": "stream",
     "text": [
      "Original Numbers: [1, 2, 3, 4, 5]\n",
      "Product of Numbers: 120\n"
     ]
    }
   ],
   "source": [
    "#4.Create a Python program that uses the `reduce()` function to find the product of all elements in a list.\n",
    "\n",
    "from functools import reduce\n",
    "\n",
    "def multiply(x, y):\n",
    "    return x * y\n",
    "\n",
    "numbers_list = [1, 2, 3, 4, 5]\n",
    "\n",
    "product = reduce(multiply, numbers_list)\n",
    "\n",
    "print(\"Original Numbers:\", numbers_list)\n",
    "print(\"Product of Numbers:\", product)\n"
   ]
  },
  {
   "cell_type": "code",
   "execution_count": null,
   "id": "c91bed60-bfe4-46a4-98eb-30fe7ad09611",
   "metadata": {},
   "outputs": [],
   "source": [
    "# Function Documentation and Best Practices:"
   ]
  },
  {
   "cell_type": "code",
   "execution_count": null,
   "id": "85605213-6308-4ea2-a703-888497630493",
   "metadata": {},
   "outputs": [],
   "source": [
    "#1. Explain the purpose of docstrings in Python functions and how to write them.\n",
    "\n",
    "# Docstrings (documentation strings) in Python serve the purpose of documenting code, particularly providing information about functions, classes, and modules. \n",
    "# They are used to describe what a piece of code does, explain the purpose of functions or methods, provide information about parameters, \n",
    "# and offer usage examples.\n",
    "# Docstrings are accessible via the `__doc__` attribute of objects.\n",
    "\n",
    "# Here are the key purposes of docstrings in Python functions:\n",
    "\n",
    "# 1. **Documentation:**\n",
    "#    - Docstrings provide a way to document the purpose and behavior of a function, making it easier for other developers (or even yourself)\n",
    "#     to understand how to use the function correctly.\n",
    "\n",
    "# 2. **Auto-Generated Documentation:**\n",
    "#    - Tools like Sphinx and automated documentation generators can extract information from docstrings to create comprehensive documentation for your code.\n",
    "\n",
    "# 3. **Interactive Help:**\n",
    "#    - Docstrings are accessible interactively. When you use the `help()` function or query an object in an interactive environment, \n",
    "#     the docstring is displayed, offering instant help and guidance.\n",
    "\n",
    "# Here's how you can write docstrings in Python functions:\n",
    "\n",
    "# ```python\n",
    "# def add_numbers(a, b):\n",
    "#     \"\"\"\n",
    "#     Adds two numbers.\n",
    "\n",
    "#     Parameters:\n",
    "#     - a (int): The first number.\n",
    "#     - b (int): The second number.\n",
    "\n",
    "#     Returns:\n",
    "#     int: The sum of the two numbers.\n",
    "#     \"\"\"\n",
    "#     return a + b\n",
    "# ```"
   ]
  },
  {
   "cell_type": "code",
   "execution_count": null,
   "id": "4943cda5-6f35-4bcb-a358-a202a9c6e03f",
   "metadata": {},
   "outputs": [],
   "source": [
    "#2. Describe some best practices for naming functions and variables in Python, including naming conventions and guidelines\n",
    "\n",
    "# Naming conventions and guidelines for functions and variables in Python are crucial for writing clean, readable, and maintainable code.\n",
    "# Adhering to consistent naming practices helps make your code more understandable and contributes to a unified style across projects. \n",
    "# Here are some best practices for naming functions and variables in Python:\n",
    "\n",
    "# ### Functions:\n",
    "\n",
    "# 1. **Use Descriptive Names:**\n",
    "#    - Choose function names that clearly convey the purpose or action of the function. Avoid overly generic names.\n",
    "\n",
    "# 2. **Follow Snake Case:**\n",
    "#    - Use snake_case for function names (all lowercase with underscores between words).\n",
    "#    - Example: `calculate_sum`, `process_data`, `validate_input`.\n",
    "\n",
    "# 3. **Use Verbs for Actions:**\n",
    "#    - Use verbs to describe actions performed by functions. This enhances clarity about what the function does.\n",
    "#    - Example: `calculate`, `validate`, `parse`.\n",
    "\n",
    "# 4. **Be Consistent:**\n",
    "#    - Maintain consistency in naming conventions across your codebase. Choose a style and stick to it.\n",
    "\n",
    "# 5. **Avoid Single-Letter Names:**\n",
    "#    - Avoid using single-letter names for functions, except in cases where the function's purpose is clear from the context (e.g., mathematical functions).\n",
    "\n",
    "# ### Variables:\n",
    "\n",
    "# 1. **Use Descriptive Names:**\n",
    "#    - Choose variable names that clearly represent the data or value they store. Make your code self-explanatory.\n",
    "\n",
    "# 2. **Follow Snake Case:**\n",
    "#    - Use snake_case for variable names.\n",
    "#    - Example: `user_name`, `total_amount`, `result_list`.\n",
    "\n",
    "# 3. **Use Meaningful Names:**\n",
    "#    - Use names that convey the purpose or significance of the variable. Avoid ambiguous or overly short names.\n",
    "#    - Example: `customer_id` is more meaningful than `cid`.\n",
    "\n",
    "# 4. **Be Consistent:**\n",
    "#    - Stick to a consistent style throughout your code. Consistency improves readability.\n",
    "\n",
    "# 5. **Avoid Reserved Words:**\n",
    "#    - Avoid using names that are reserved keywords in Python, such as `class`, `list`, `int`, etc.\n",
    "\n",
    "# ### General Guidelines:\n",
    "\n",
    "# 1. **Follow PEP 8:**\n",
    "#    - Adhere to the PEP 8 style guide, which is the official style guide for Python code.\n",
    "#     It provides conventions for naming, indentation, and other aspects of writing Python code.\n",
    "\n",
    "# 2. **Use Clear and Concise Names:**\n",
    "#    - Aim for clarity and conciseness. Short names are acceptable if they are meaningful and not cryptic.\n",
    "\n",
    "# 3. **Document Unusual Names:**\n",
    "#    - If you use non-standard abbreviations or names that might not be immediately obvious, consider providing comments or documentation to explain them.\n",
    "\n",
    "# 4. **Avoid Overusing Abbreviations:**\n",
    "#    - While short names can be useful, avoid excessive use of abbreviations that may make the code hard to understand.\n",
    "\n",
    "# By following these best practices, you can contribute to the overall readability and maintainability of your Python code.\n",
    "# Consistent and descriptive naming conventions make it easier for you and others to understand, modify, and maintain the codebase."
   ]
  },
  {
   "cell_type": "code",
   "execution_count": null,
   "id": "d4468e46-f5f5-4eb4-b040-9a5e22165f9f",
   "metadata": {},
   "outputs": [],
   "source": []
  },
  {
   "cell_type": "code",
   "execution_count": null,
   "id": "5bae233c-b5f0-4503-8322-bbd0eb5715af",
   "metadata": {},
   "outputs": [],
   "source": []
  },
  {
   "cell_type": "code",
   "execution_count": null,
   "id": "7bf59fd0-345f-4b6a-a28e-049cd8c74e43",
   "metadata": {},
   "outputs": [],
   "source": []
  },
  {
   "cell_type": "code",
   "execution_count": null,
   "id": "9ad96715-2c86-4f32-87f2-d4be583a05ec",
   "metadata": {},
   "outputs": [],
   "source": []
  },
  {
   "cell_type": "code",
   "execution_count": null,
   "id": "21af14ea-1770-4d36-966f-584ae29acc64",
   "metadata": {},
   "outputs": [],
   "source": []
  },
  {
   "cell_type": "code",
   "execution_count": null,
   "id": "246f5226-9a1b-4c2a-b036-253cac4f6869",
   "metadata": {},
   "outputs": [],
   "source": []
  }
 ],
 "metadata": {
  "kernelspec": {
   "display_name": "Python 3 (ipykernel)",
   "language": "python",
   "name": "python3"
  },
  "language_info": {
   "codemirror_mode": {
    "name": "ipython",
    "version": 3
   },
   "file_extension": ".py",
   "mimetype": "text/x-python",
   "name": "python",
   "nbconvert_exporter": "python",
   "pygments_lexer": "ipython3",
   "version": "3.10.8"
  }
 },
 "nbformat": 4,
 "nbformat_minor": 5
}
